{
 "cells": [
  {
   "cell_type": "markdown",
   "metadata": {},
   "source": [
    "Loading the network weights"
   ]
  },
  {
   "cell_type": "code",
   "execution_count": 1,
   "metadata": {
    "collapsed": false
   },
   "outputs": [
    {
     "name": "stderr",
     "output_type": "stream",
     "text": [
      "C:\\Users\\s119104\\AppData\\Local\\Continuum\\Anaconda2\\lib\\site-packages\\theano\\tensor\\signal\\downsample.py:6: UserWarning: downsample module has been moved to the theano.tensor.signal.pool module.\n",
      "  \"downsample module has been moved to the theano.tensor.signal.pool module.\")\n"
     ]
    }
   ],
   "source": [
    "import os\n",
    "from PIL import Image as PIL_image\n",
    "import numpy as np\n",
    "import matplotlib.pyplot as plt\n",
    "import matplotlib.image as img\n",
    "from sklearn.feature_extraction import image as sklearn_image\n",
    "#matplotlib inline\n",
    "import theano\n",
    "import lasagne\n",
    "import time\n",
    "import random\n",
    "import math\n",
    "import cPickle\n",
    "random.seed(0)"
   ]
  },
  {
   "cell_type": "code",
   "execution_count": 2,
   "metadata": {
    "collapsed": true
   },
   "outputs": [],
   "source": [
    "def buildLeNet(X1):\n",
    "    #rectify, softmax, sigmoid\n",
    "    inputlayer = lasagne.layers.InputLayer(shape=(None, 1, 32, 32),input_var=X1)    \n",
    "    print inputlayer.output_shape\n",
    "    \n",
    "    layer1 = lasagne.layers.Conv2DLayer(inputlayer, num_filters=6, filter_size=(5,5), nonlinearity=lasagne.nonlinearities.rectify, W=lasagne.init.GlorotUniform())\n",
    "    print layer1.output_shape \n",
    "    \n",
    "    layer2 = lasagne.layers.MaxPool2DLayer(layer1, pool_size=(2, 2))\n",
    "    print layer2.output_shape \n",
    "    \n",
    "    layer3 = lasagne.layers.Conv2DLayer(layer2, num_filters=16, filter_size=(5,5), nonlinearity=lasagne.nonlinearities.rectify, W=lasagne.init.GlorotUniform())\n",
    "    print layer3.output_shape \n",
    "    \n",
    "    layer4 = lasagne.layers.MaxPool2DLayer(layer3, pool_size=(2, 2))\n",
    "    print layer4.output_shape \n",
    "    \n",
    "    layer4 = lasagne.layers.flatten(layer4)\n",
    "    print layer4.output_shape \n",
    "    \n",
    "    layer5 = lasagne.layers.DenseLayer(layer4,num_units=120,nonlinearity=lasagne.nonlinearities.rectify)    \n",
    "    print layer5.output_shape \n",
    "    \n",
    "    layer6 = lasagne.layers.DenseLayer(layer5,num_units=84,nonlinearity=lasagne.nonlinearities.rectify)\n",
    "    print layer6.output_shape \n",
    "    \n",
    "    outputlayer = lasagne.layers.DenseLayer(layer6,num_units=2,nonlinearity=lasagne.nonlinearities.softmax)     \n",
    "    print outputlayer.output_shape \n",
    "    \n",
    "    return layer1, layer2, layer3, layer4, layer5, layer6, outputlayer"
   ]
  },
  {
   "cell_type": "code",
   "execution_count": 3,
   "metadata": {
    "collapsed": false
   },
   "outputs": [
    {
     "name": "stdout",
     "output_type": "stream",
     "text": [
      "(None, 1, 32, 32)\n",
      "(None, 6, 28, 28)\n",
      "(None, 6, 14, 14)\n",
      "(None, 16, 10, 10)\n",
      "(None, 16, 5, 5)\n",
      "(None, 400)\n",
      "(None, 120)\n",
      "(None, 84)\n",
      "(None, 2)\n"
     ]
    }
   ],
   "source": [
    "X = theano.tensor.tensor4()\n",
    "Y = theano.tensor.matrix()\n",
    "layer1, layer2, layer3, layer4, layer5, layer6, outputlayer = buildLeNet(X)"
   ]
  },
  {
   "cell_type": "code",
   "execution_count": 35,
   "metadata": {
    "collapsed": false
   },
   "outputs": [],
   "source": [
    "def load_weights(filename, network):\n",
    "    with open(filename, 'rb') as f:\n",
    "        lasagne.layers.set_all_param_values(network, cPickle.load(f))\n",
    "        losslist = cPickle.load(f)\n",
    "        validlosslist = cPickle.load(f)\n",
    "        test_results = cPickle.load(f)\n",
    "        \n",
    "    return(losslist, validlosslist,test_results)\n",
    "\n",
    "network = outputlayer\n",
    "project_path = os.getcwd()\n",
    "filename = project_path + '/Project1_weights.pkl'\n",
    "losslist, validlosslist, test_results = load_weights(filename, network)           "
   ]
  },
  {
   "cell_type": "markdown",
   "metadata": {},
   "source": [
    "Load the test images and make images of those"
   ]
  },
  {
   "cell_type": "code",
   "execution_count": 36,
   "metadata": {
    "collapsed": false
   },
   "outputs": [
    {
     "data": {
      "image/png": "[encoded data removed]",
      "text/plain": [
       "<matplotlib.figure.Figure at 0xc1a3ac8>"
      ]
     },
     "metadata": {},
     "output_type": "display_data"
    }
   ],
   "source": [
    "plt.figure()\n",
    "plt.plot(losslist)\n",
    "plt.plot(validlosslist)\n",
    "plt.legend(['Training loss','Validation loss'])\n",
    "plt.show()"
   ]
  },
  {
   "cell_type": "code",
   "execution_count": 37,
   "metadata": {
    "collapsed": false
   },
   "outputs": [
    {
     "name": "stdout",
     "output_type": "stream",
     "text": [
      "[array(9.2628812789917, dtype=float32), array(27.244606018066406, dtype=float32), array(nan, dtype=float32), array(nan, dtype=float32), array(nan, dtype=float32), array(nan, dtype=float32), array(nan, dtype=float32), array(nan, dtype=float32), array(nan, dtype=float32), array(nan, dtype=float32), array(nan, dtype=float32), array(nan, dtype=float32), array(nan, dtype=float32), array(nan, dtype=float32), array(nan, dtype=float32), array(nan, dtype=float32), array(nan, dtype=float32), array(nan, dtype=float32), array(nan, dtype=float32), array(nan, dtype=float32), array(nan, dtype=float32), array(nan, dtype=float32), array(nan, dtype=float32), array(nan, dtype=float32), array(nan, dtype=float32), array(nan, dtype=float32), array(nan, dtype=float32), array(nan, dtype=float32), array(nan, dtype=float32), array(nan, dtype=float32), array(nan, dtype=float32), array(nan, dtype=float32), array(nan, dtype=float32), array(nan, dtype=float32), array(nan, dtype=float32), array(nan, dtype=float32), array(nan, dtype=float32), array(nan, dtype=float32), array(nan, dtype=float32), array(nan, dtype=float32), array(nan, dtype=float32), array(nan, dtype=float32), array(nan, dtype=float32), array(nan, dtype=float32), array(nan, dtype=float32), array(nan, dtype=float32), array(nan, dtype=float32), array(nan, dtype=float32), array(nan, dtype=float32), array(nan, dtype=float32), array(nan, dtype=float32), array(nan, dtype=float32), array(nan, dtype=float32), array(nan, dtype=float32), array(nan, dtype=float32), array(nan, dtype=float32), array(nan, dtype=float32), array(nan, dtype=float32), array(nan, dtype=float32), array(nan, dtype=float32), array(nan, dtype=float32), array(nan, dtype=float32), array(nan, dtype=float32), array(nan, dtype=float32), array(nan, dtype=float32), array(nan, dtype=float32), array(nan, dtype=float32), array(nan, dtype=float32), array(nan, dtype=float32), array(nan, dtype=float32), array(nan, dtype=float32), array(nan, dtype=float32), array(nan, dtype=float32), array(nan, dtype=float32), array(nan, dtype=float32), array(nan, dtype=float32), array(nan, dtype=float32), array(nan, dtype=float32), array(nan, dtype=float32), array(nan, dtype=float32), array(nan, dtype=float32), array(nan, dtype=float32), array(nan, dtype=float32), array(nan, dtype=float32), array(nan, dtype=float32), array(nan, dtype=float32), array(nan, dtype=float32), array(nan, dtype=float32), array(nan, dtype=float32), array(nan, dtype=float32), array(nan, dtype=float32), array(nan, dtype=float32), array(nan, dtype=float32), array(nan, dtype=float32), array(nan, dtype=float32), array(nan, dtype=float32), array(nan, dtype=float32), array(nan, dtype=float32), array(nan, dtype=float32), array(nan, dtype=float32), array(nan, dtype=float32), array(nan, dtype=float32), array(nan, dtype=float32), array(nan, dtype=float32), array(nan, dtype=float32), array(nan, dtype=float32), array(nan, dtype=float32), array(nan, dtype=float32), array(nan, dtype=float32), array(nan, dtype=float32), array(nan, dtype=float32), array(nan, dtype=float32), array(nan, dtype=float32), array(nan, dtype=float32), array(nan, dtype=float32), array(nan, dtype=float32), array(nan, dtype=float32), array(nan, dtype=float32), array(nan, dtype=float32), array(nan, dtype=float32), array(nan, dtype=float32), array(nan, dtype=float32), array(nan, dtype=float32), array(nan, dtype=float32), array(nan, dtype=float32), array(nan, dtype=float32), array(nan, dtype=float32), array(nan, dtype=float32), array(nan, dtype=float32), array(nan, dtype=float32), array(nan, dtype=float32), array(nan, dtype=float32), array(nan, dtype=float32), array(nan, dtype=float32), array(nan, dtype=float32), array(nan, dtype=float32), array(nan, dtype=float32), array(nan, dtype=float32), array(nan, dtype=float32), array(nan, dtype=float32), array(nan, dtype=float32), array(nan, dtype=float32), array(nan, dtype=float32), array(nan, dtype=float32), array(nan, dtype=float32), array(nan, dtype=float32), array(nan, dtype=float32), array(nan, dtype=float32), array(nan, dtype=float32), array(nan, dtype=float32), array(nan, dtype=float32), array(nan, dtype=float32), array(nan, dtype=float32), array(nan, dtype=float32), array(nan, dtype=float32), array(nan, dtype=float32), array(nan, dtype=float32), array(nan, dtype=float32), array(nan, dtype=float32), array(nan, dtype=float32), array(nan, dtype=float32), array(nan, dtype=float32), array(nan, dtype=float32), array(nan, dtype=float32), array(nan, dtype=float32), array(nan, dtype=float32), array(nan, dtype=float32), array(nan, dtype=float32), array(nan, dtype=float32), array(nan, dtype=float32), array(nan, dtype=float32), array(nan, dtype=float32), array(nan, dtype=float32), array(nan, dtype=float32), array(nan, dtype=float32), array(nan, dtype=float32), array(nan, dtype=float32), array(nan, dtype=float32), array(nan, dtype=float32), array(nan, dtype=float32), array(nan, dtype=float32), array(nan, dtype=float32), array(nan, dtype=float32), array(nan, dtype=float32), array(nan, dtype=float32), array(nan, dtype=float32), array(nan, dtype=float32), array(nan, dtype=float32), array(nan, dtype=float32), array(nan, dtype=float32), array(nan, dtype=float32), array(nan, dtype=float32), array(nan, dtype=float32), array(nan, dtype=float32), array(nan, dtype=float32), array(nan, dtype=float32), array(nan, dtype=float32), array(nan, dtype=float32), array(nan, dtype=float32), array(nan, dtype=float32), array(nan, dtype=float32), array(nan, dtype=float32), array(nan, dtype=float32), array(nan, dtype=float32), array(nan, dtype=float32), array(nan, dtype=float32), array(nan, dtype=float32), array(nan, dtype=float32), array(nan, dtype=float32), array(nan, dtype=float32), array(nan, dtype=float32), array(nan, dtype=float32), array(nan, dtype=float32), array(nan, dtype=float32), array(nan, dtype=float32), array(nan, dtype=float32), array(nan, dtype=float32), array(nan, dtype=float32), array(nan, dtype=float32), array(nan, dtype=float32), array(nan, dtype=float32), array(nan, dtype=float32), array(nan, dtype=float32), array(nan, dtype=float32), array(nan, dtype=float32), array(nan, dtype=float32), array(nan, dtype=float32), array(nan, dtype=float32), array(nan, dtype=float32), array(nan, dtype=float32), array(nan, dtype=float32), array(nan, dtype=float32), array(nan, dtype=float32), array(nan, dtype=float32), array(nan, dtype=float32), array(nan, dtype=float32), array(nan, dtype=float32), array(nan, dtype=float32), array(nan, dtype=float32), array(nan, dtype=float32), array(nan, dtype=float32), array(nan, dtype=float32), array(nan, dtype=float32), array(nan, dtype=float32), array(nan, dtype=float32), array(nan, dtype=float32), array(nan, dtype=float32), array(nan, dtype=float32), array(nan, dtype=float32), array(nan, dtype=float32), array(nan, dtype=float32), array(nan, dtype=float32), array(nan, dtype=float32), array(nan, dtype=float32), array(nan, dtype=float32), array(nan, dtype=float32), array(nan, dtype=float32), array(nan, dtype=float32), array(nan, dtype=float32), array(nan, dtype=float32), array(nan, dtype=float32), array(nan, dtype=float32), array(nan, dtype=float32), array(nan, dtype=float32), array(nan, dtype=float32), array(nan, dtype=float32), array(nan, dtype=float32), array(nan, dtype=float32), array(nan, dtype=float32), array(nan, dtype=float32), array(nan, dtype=float32), array(nan, dtype=float32), array(nan, dtype=float32), array(nan, dtype=float32), array(nan, dtype=float32), array(nan, dtype=float32), array(nan, dtype=float32), array(nan, dtype=float32), array(nan, dtype=float32), array(nan, dtype=float32), array(nan, dtype=float32), array(nan, dtype=float32), array(nan, dtype=float32), array(nan, dtype=float32), array(nan, dtype=float32), array(nan, dtype=float32), array(nan, dtype=float32), array(nan, dtype=float32), array(nan, dtype=float32), array(nan, dtype=float32), array(nan, dtype=float32), array(nan, dtype=float32), array(nan, dtype=float32), array(nan, dtype=float32), array(nan, dtype=float32), array(nan, dtype=float32), array(nan, dtype=float32), array(nan, dtype=float32), array(nan, dtype=float32), array(nan, dtype=float32), array(nan, dtype=float32), array(nan, dtype=float32), array(nan, dtype=float32), array(nan, dtype=float32), array(nan, dtype=float32), array(nan, dtype=float32), array(nan, dtype=float32), array(nan, dtype=float32), array(nan, dtype=float32), array(nan, dtype=float32), array(nan, dtype=float32), array(nan, dtype=float32), array(nan, dtype=float32), array(nan, dtype=float32), array(nan, dtype=float32), array(nan, dtype=float32), array(nan, dtype=float32), array(nan, dtype=float32), array(nan, dtype=float32), array(nan, dtype=float32), array(nan, dtype=float32), array(nan, dtype=float32), array(nan, dtype=float32), array(nan, dtype=float32), array(nan, dtype=float32), array(nan, dtype=float32), array(nan, dtype=float32), array(nan, dtype=float32), array(nan, dtype=float32), array(nan, dtype=float32), array(nan, dtype=float32), array(nan, dtype=float32), array(nan, dtype=float32), array(nan, dtype=float32), array(nan, dtype=float32), array(nan, dtype=float32), array(nan, dtype=float32), array(nan, dtype=float32), array(nan, dtype=float32), array(nan, dtype=float32), array(nan, dtype=float32), array(nan, dtype=float32), array(nan, dtype=float32), array(nan, dtype=float32), array(nan, dtype=float32), array(nan, dtype=float32), array(nan, dtype=float32), array(nan, dtype=float32), array(nan, dtype=float32), array(nan, dtype=float32), array(nan, dtype=float32), array(nan, dtype=float32), array(nan, dtype=float32), array(nan, dtype=float32), array(nan, dtype=float32), array(nan, dtype=float32), array(nan, dtype=float32), array(nan, dtype=float32), array(nan, dtype=float32), array(nan, dtype=float32), array(nan, dtype=float32), array(nan, dtype=float32), array(nan, dtype=float32), array(nan, dtype=float32), array(nan, dtype=float32), array(nan, dtype=float32), array(nan, dtype=float32), array(nan, dtype=float32), array(nan, dtype=float32), array(nan, dtype=float32), array(nan, dtype=float32), array(nan, dtype=float32), array(nan, dtype=float32), array(nan, dtype=float32), array(nan, dtype=float32), array(nan, dtype=float32), array(nan, dtype=float32), array(nan, dtype=float32), array(nan, dtype=float32), array(nan, dtype=float32), array(nan, dtype=float32), array(nan, dtype=float32), array(nan, dtype=float32), array(nan, dtype=float32), array(nan, dtype=float32), array(nan, dtype=float32), array(nan, dtype=float32), array(nan, dtype=float32), array(nan, dtype=float32), array(nan, dtype=float32), array(nan, dtype=float32), array(nan, dtype=float32), array(nan, dtype=float32), array(nan, dtype=float32), array(nan, dtype=float32), array(nan, dtype=float32), array(nan, dtype=float32), array(nan, dtype=float32), array(nan, dtype=float32), array(nan, dtype=float32), array(nan, dtype=float32), array(nan, dtype=float32), array(nan, dtype=float32), array(nan, dtype=float32), array(nan, dtype=float32), array(nan, dtype=float32), array(nan, dtype=float32), array(nan, dtype=float32), array(nan, dtype=float32), array(nan, dtype=float32), array(nan, dtype=float32), array(nan, dtype=float32), array(nan, dtype=float32), array(nan, dtype=float32), array(nan, dtype=float32), array(nan, dtype=float32), array(nan, dtype=float32), array(nan, dtype=float32), array(nan, dtype=float32), array(nan, dtype=float32), array(nan, dtype=float32), array(nan, dtype=float32), array(nan, dtype=float32), array(nan, dtype=float32), array(nan, dtype=float32), array(nan, dtype=float32), array(nan, dtype=float32), array(nan, dtype=float32), array(nan, dtype=float32), array(nan, dtype=float32), array(nan, dtype=float32), array(nan, dtype=float32), array(nan, dtype=float32), array(nan, dtype=float32), array(nan, dtype=float32), array(nan, dtype=float32), array(nan, dtype=float32), array(nan, dtype=float32), array(nan, dtype=float32), array(nan, dtype=float32), array(nan, dtype=float32), array(nan, dtype=float32), array(nan, dtype=float32), array(nan, dtype=float32), array(nan, dtype=float32), array(nan, dtype=float32), array(nan, dtype=float32), array(nan, dtype=float32), array(nan, dtype=float32), array(nan, dtype=float32), array(nan, dtype=float32), array(nan, dtype=float32), array(nan, dtype=float32), array(nan, dtype=float32), array(nan, dtype=float32), array(nan, dtype=float32), array(nan, dtype=float32), array(nan, dtype=float32), array(nan, dtype=float32), array(nan, dtype=float32), array(nan, dtype=float32), array(nan, dtype=float32), array(nan, dtype=float32), array(nan, dtype=float32), array(nan, dtype=float32), array(nan, dtype=float32), array(nan, dtype=float32), array(nan, dtype=float32), array(nan, dtype=float32), array(nan, dtype=float32), array(nan, dtype=float32), array(nan, dtype=float32), array(nan, dtype=float32), array(nan, dtype=float32), array(nan, dtype=float32), array(nan, dtype=float32), array(nan, dtype=float32), array(nan, dtype=float32), array(nan, dtype=float32), array(nan, dtype=float32), array(nan, dtype=float32), array(nan, dtype=float32), array(nan, dtype=float32), array(nan, dtype=float32), array(nan, dtype=float32), array(nan, dtype=float32), array(nan, dtype=float32), array(nan, dtype=float32), array(nan, dtype=float32), array(nan, dtype=float32), array(nan, dtype=float32), array(nan, dtype=float32), array(nan, dtype=float32), array(nan, dtype=float32), array(nan, dtype=float32), array(nan, dtype=float32), array(nan, dtype=float32), array(nan, dtype=float32), array(nan, dtype=float32), array(nan, dtype=float32)]\n"
     ]
    }
   ],
   "source": [
    "print(losslist)"
   ]
  },
  {
   "cell_type": "code",
   "execution_count": null,
   "metadata": {
    "collapsed": true
   },
   "outputs": [],
   "source": []
  },
  {
   "cell_type": "code",
   "execution_count": null,
   "metadata": {
    "collapsed": true
   },
   "outputs": [],
   "source": []
  }
 ],
 "metadata": {
  "kernelspec": {
   "display_name": "Python 2",
   "language": "python",
   "name": "python2"
  },
  "language_info": {
   "codemirror_mode": {
    "name": "ipython",
    "version": 2
   },
   "file_extension": ".py",
   "mimetype": "text/x-python",
   "name": "python",
   "nbconvert_exporter": "python",
   "pygments_lexer": "ipython2",
   "version": "2.7.13"
  }
 },
 "nbformat": 4,
 "nbformat_minor": 2
}
