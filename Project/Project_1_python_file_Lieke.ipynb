{
 "cells": [
  {
   "cell_type": "markdown",
   "metadata": {},
   "source": [
    "<h1>Deep learning project 8DM20 CSMIA</h1>\n",
    "\n",
    "<h4>Group members:</h4>\n",
    "O. Akdag - 0842508 <br>\n",
    "T.P.A. Beishuizen - 0791613 <br>\n",
    "A.S.A. Eskelinen - 1224333 <br>\n",
    "J.H.A. Migchielsen - 0495058 <br>\n",
    "L. van den Wildenberg - 0844697 <br>"
   ]
  },
  {
   "cell_type": "code",
   "execution_count": 48,
   "metadata": {
    "collapsed": false
   },
   "outputs": [],
   "source": [
    "# Import all used packages (unused packages are commented out so far)\n",
    "import os\n",
    "from PIL import Image as PIL_image\n",
    "import numpy as np\n",
    "import matplotlib.pyplot as plt\n",
    "import matplotlib.image as img\n",
    "from sklearn.feature_extraction import image as sklearn_image\n",
    "#matplotlib inline\n",
    "import theano\n",
    "import lasagne\n",
    "import time\n",
    "import random\n",
    "import math\n",
    "random.seed(0)"
   ]
  },
  {
   "cell_type": "markdown",
   "metadata": {},
   "source": [
    "Before every thing can be done, at first the data images have to be read and be made in useable data types."
   ]
  },
  {
   "cell_type": "code",
   "execution_count": 49,
   "metadata": {
    "collapsed": false
   },
   "outputs": [],
   "source": [
    "# The function that loads the data\n",
    "def loadData(data_set = 'test', image = '1st_manual'):\n",
    "    \n",
    "    # Check for the correct input\n",
    "    if data_set != 'test' and data_set != 'training':\n",
    "        raise Exception('Not the right data_set file')\n",
    "    if image != '1st_manual' and image != '2nd_manual' and image != 'images' and image != 'mask':\n",
    "        raise Exception('Not the right image file')\n",
    "    if data_set == 'training' and image == '2nd_manual':\n",
    "        raise Exception('File not available')\n",
    "    \n",
    "    # Project and image path\n",
    "    project_path = os.getcwd()\n",
    "    images_path = project_path +  '/8DM20_image_dataset/' + data_set + '/' + image + '/'\n",
    "    \n",
    "    images = []\n",
    "    \n",
    "    #Open image for image (20 in total for each of them)\n",
    "    for i in range(1, 21):\n",
    "        \n",
    "        # Find correct image number\n",
    "        image_nr = str(i)\n",
    "        if data_set == 'training':\n",
    "            image_nr = str(20 + i)\n",
    "        elif len(image_nr) == 1:\n",
    "            image_nr = '0' + image_nr\n",
    "            \n",
    "        # Specify path for this image\n",
    "        if image == '1st_manual':\n",
    "            image_path = images_path + image_nr + '_manual1.gif'\n",
    "        elif image == '2nd_manual':\n",
    "            image_path = images_path + image_nr + '_manual2.gif'\n",
    "        elif image == 'images':\n",
    "            image_path = images_path + image_nr + '_' + data_set + '.tif'\n",
    "        elif image == 'mask':\n",
    "            image_path = images_path + image_nr + '_' + data_set + '_mask.gif'\n",
    "        \n",
    "        # Open and append the image to the image list\n",
    "        images.append(PIL_image.open(image_path))\n",
    "        \n",
    "    return images\n",
    "\n",
    "#The function that converts the channels in the images from RGB to gray\n",
    "#and makes matrices from the images\n",
    "def convertImageToMatrix(images):\n",
    "    \n",
    "    image_matrices = []\n",
    "    \n",
    "    for image in images:\n",
    "        image_matrix = np.asarray(image.convert('L'))\n",
    "        image_matrices.append(image_matrix)\n",
    "        \n",
    "    return image_matrices\n",
    "\n",
    "#The function that prepares the image matrices to the data used for machine learning\n",
    "def prepareMachineLearningData(image_matrix, output_matrix, mask_matrix, kernel_size):\n",
    "    #Check if correct input\n",
    "    if not (isinstance(image_matrix, np.ndarray) and \n",
    "            isinstance(output_matrix, np.ndarray) and \n",
    "            isinstance(mask_matrix, np.ndarray)):\n",
    "        raise Exception(\"Not all input matrices are numpy matrices\")\n",
    "    \n",
    "    if not (image_matrix.shape == output_matrix.shape == mask_matrix.shape):\n",
    "        raise Exception(\"The images are not the same size\")\n",
    "    \n",
    "    if np.unique(mask_matrix).shape[0] != 2:\n",
    "        raise Exception(\"The mask matrix does not consist of only 2 values\")\n",
    "    \n",
    "    #Creates a matrix with all possible patches\n",
    "    all_image_patches = sklearn_image.extract_patches_2d(image_matrix,(kernel_size,kernel_size))\n",
    "    all_image_patches = np.expand_dims(all_image_patches, axis=1)\n",
    "    \n",
    "    if kernel_size % 2 != 0:\n",
    "         # Creates an array with all output\n",
    "        matrix_reduction = (kernel_size - 1) / 2\n",
    "        reduced_output_matrix = output_matrix[matrix_reduction : - matrix_reduction, matrix_reduction : - matrix_reduction]\n",
    "        complete_output_array = reduced_output_matrix.reshape(-1)\n",
    "\n",
    "        # Creates an array with all mask locations\n",
    "        reduced_mask_matrix = mask_matrix[matrix_reduction : - matrix_reduction, matrix_reduction : - matrix_reduction]\n",
    "        mask_array = reduced_mask_matrix.reshape(-1)\n",
    "    \n",
    "    else:\n",
    "        # Creates an array with all output\n",
    "        matrix_reduction = (kernel_size) / 2\n",
    "        reduced_output_matrix = output_matrix[matrix_reduction - 1: - matrix_reduction, matrix_reduction - 1: - matrix_reduction]\n",
    "        complete_output_array = reduced_output_matrix.reshape(-1)\n",
    "\n",
    "        # Creates an array with all mask locations\n",
    "        reduced_mask_matrix = mask_matrix[matrix_reduction - 1: - matrix_reduction, matrix_reduction - 1: - matrix_reduction]\n",
    "        mask_array = reduced_mask_matrix.reshape(-1) \n",
    "        \n",
    "    \n",
    "    image_patches = []\n",
    "    output_array = []\n",
    "    \n",
    "    # Reduces the number of patches and output to only the mask values\n",
    "    for i in range(len(mask_array)):\n",
    "        if mask_array[i] != 0:\n",
    "            image_patches.append(all_image_patches[i,:,:])\n",
    "            output_array.append(complete_output_array[i])\n",
    "    \n",
    "    # Return the image patches and the output array\n",
    "    return image_patches, output_array\n",
    "\n",
    "# Prepare multiple images at once\n",
    "def prepareMultipleImages(image_matrices, output_matrices, mask_matrices, kernel_size = 25):\n",
    "    #Check if correct input\n",
    "    if not (isinstance(image_matrices, list) and \n",
    "            isinstance(output_matrices, list) and \n",
    "            isinstance(mask_matrices, list)):\n",
    "        raise Exception(\"Not all input matrices are numpy matrices\")\n",
    "    \n",
    "    if not (len(image_matrices) == len(output_matrices) == len(mask_matrices)):\n",
    "        raise Exception(\"The images are not the same size\")\n",
    "    \n",
    "    image_patches = [] \n",
    "    output_arrays = []\n",
    "    \n",
    "    # Finds the output data per image\n",
    "    for i in range(len(image_matrices)):\n",
    "        new_image_patches, new_output_array = prepareMachineLearningData(image_matrices[i], output_matrices[i], \n",
    "                                                                         mask_matrices[i], kernel_size = kernel_size)\n",
    "        image_patches.append(new_image_patches)\n",
    "        output_arrays.append(new_output_array)\n",
    "        \n",
    "        #Print progress for showing time consumption\n",
    "        print\"Progress: {} %\".format(100*(i+1)/len(image_matrices)),\n",
    "              \n",
    "    return image_patches, output_arrays\n",
    "\n",
    "def createVesselImage(output_array, mask_matrix, kernel_size):\n",
    "    #Check if input is correct\n",
    "    if not isinstance(output_array, list) or not isinstance(mask_matrix, np.ndarray) or not isinstance(kernel_size, int):\n",
    "        raise Exception(\"Not the right input variables\")\n",
    "    \n",
    "    #Create an output_matrix for the output array\n",
    "    #output_matrix = np.array(mask_matrix)\n",
    "    output_matrix = np.zeros(mask_matrix.shape)\n",
    "    output_loc = 0\n",
    "    \n",
    "    # Take into account that mask pixels too close to the border are lost due to inability to make patches\n",
    "    edge_corr = math.ceil(kernel_size / 2) - 1\n",
    "    \n",
    "    # Check every pixel within the mask for a vessel pixel\n",
    "    for i in range(mask_matrix.shape[0] - kernel_size + 1):\n",
    "        for j in range(mask_matrix.shape[1] - kernel_size + 1):\n",
    "            if mask_matrix[i + edge_corr, j + edge_corr] == 255:\n",
    "                output_matrix[i + edge_corr, j + edge_corr] = output_array[output_loc]\n",
    "                output_loc += 1\n",
    "                \n",
    "    return output_matrix "
   ]
  },
  {
   "cell_type": "markdown",
   "metadata": {},
   "source": [
    "All images are loaded and immediately made into matrices for further computation"
   ]
  },
  {
   "cell_type": "code",
   "execution_count": 50,
   "metadata": {
    "collapsed": false
   },
   "outputs": [],
   "source": [
    "# All test image lists\n",
    "test_manual1_images = loadData('test', '1st_manual')\n",
    "test_manual2_images = loadData('test', '2nd_manual')\n",
    "test_raw_images = loadData('test', 'images')\n",
    "test_mask_images = loadData('test', 'mask')\n",
    "\n",
    "# Making matrices of the test images to work with\n",
    "test_manual1_matrices = convertImageToMatrix(test_manual1_images)\n",
    "test_manual2_matrices = convertImageToMatrix(test_manual2_images)\n",
    "test_raw_matrices = convertImageToMatrix(test_raw_images)\n",
    "test_mask_matrices = convertImageToMatrix(test_mask_images)\n",
    "\n",
    "# All training image lists\n",
    "training_manual1_images = loadData('training', '1st_manual')\n",
    "training_raw_images = loadData('training', 'images')\n",
    "training_mask_images = loadData('training', 'mask')\n",
    "\n",
    "# Making matrices of the training images to work with\n",
    "training_manual1_matrices = convertImageToMatrix(training_manual1_images)\n",
    "training_raw_matrices = convertImageToMatrix(training_raw_images)\n",
    "training_mask_matrices = convertImageToMatrix(training_mask_images)"
   ]
  },
  {
   "cell_type": "markdown",
   "metadata": {},
   "source": [
    "The matrices are then used for further preprocessing to retrieve the suitable data for machine learning"
   ]
  },
  {
   "cell_type": "code",
   "execution_count": 51,
   "metadata": {
    "collapsed": false
   },
   "outputs": [
    {
     "name": "stdout",
     "output_type": "stream",
     "text": [
      "Progress: 50 % Progress: 100 % Progress: 100 % (2L,)\n",
      "(1L, 224306L, 1L, 32L, 32L)\n"
     ]
    }
   ],
   "source": [
    "#Choose the number of images\n",
    "nr_images_training = 2\n",
    "nr_images_test = 1\n",
    "\n",
    "# Prepares the data for machine learning: X = image_patches, y = output_array\n",
    "# Both are a list with the patches and output_arrays for multiple images (the number chosen before)\n",
    "image_patches, output_array = prepareMultipleImages(training_raw_matrices[0:nr_images_training], training_manual1_matrices[0:nr_images_training], \n",
    "                                                     training_mask_matrices[0:nr_images_training], 32)\n",
    "test_image_patches, test_output_array = prepareMultipleImages(test_raw_matrices[0:nr_images_test], test_manual1_matrices[0:nr_images_test], \n",
    "                                                     test_mask_matrices[0:nr_images_test], 32)\n",
    "print np.shape(image_patches)\n",
    "print np.shape(test_image_patches)"
   ]
  },
  {
   "cell_type": "markdown",
   "metadata": {},
   "source": [
    "The following code is just to show how the data set is built up. There are patches of 32 x 32. These values either correspond to a vene pixel or not."
   ]
  },
  {
   "cell_type": "code",
   "execution_count": 6,
   "metadata": {
    "collapsed": false
   },
   "outputs": [
    {
     "data": {
      "image/png": "[encoded data removed]",
      "text/plain": [
       "<matplotlib.figure.Figure at 0xb076160>"
      ]
     },
     "metadata": {},
     "output_type": "display_data"
    },
    {
     "name": "stdout",
     "output_type": "stream",
     "text": [
      "Should be vene pixel? 0 (255 is yes, 0 is no)\n"
     ]
    }
   ],
   "source": [
    "image_number = 1\n",
    "pixel = 35620 #35645\n",
    "\n",
    "\n",
    "np.asarray(image_patches[1]).shape\n",
    "\n",
    "plt.matshow(image_patches[image_number][pixel][0])\n",
    "plt.show()\n",
    "\n",
    "print(\"Should be vene pixel? \" + str(output_array[image_number - 1][pixel]) + \" (255 is yes, 0 is no)\")"
   ]
  },
  {
   "cell_type": "markdown",
   "metadata": {
    "collapsed": true
   },
   "source": [
    "For using machine learning. At first training and validation data has to be set up. This is almost done in the previous pre-processing part, however the data set still need to be assigned."
   ]
  },
  {
   "cell_type": "code",
   "execution_count": 56,
   "metadata": {
    "collapsed": false
   },
   "outputs": [],
   "source": [
    "def train_and_validation_set(image_patches, output_array):\n",
    "    all_train_patches = []\n",
    "    all_train_output = []\n",
    "\n",
    "    for i in range(nr_images_training):\n",
    "        if i <= (nr_images_training-1)/2 :\n",
    "            for j in range(len(image_patches[i])):\n",
    "                all_train_patches.append(image_patches[i][j])\n",
    "                all_train_output.append(output_array[i][j])\n",
    "        else:\n",
    "            valid_patches = image_patches[i]\n",
    "            valid_output = output_array[i]\n",
    "    \n",
    "    return all_train_patches, all_train_output, valid_patches, valid_output\n",
    "\n",
    "def hot_encoding(all_train_output, valid_output):\n",
    "    train_hot_output = np.zeros((len(all_train_output),2),dtype=np.int16)\n",
    "\n",
    "    # Make hot encoding training set\n",
    "    for i in range(len(train_hot_output)):\n",
    "        if all_train_output[i] == 0:\n",
    "            train_hot_output[i,0] = 1\n",
    "        else:\n",
    "            train_hot_output[i,1] = 1      \n",
    "\n",
    "    # Make hot encoding validation set\n",
    "    valid_hot_output = np.zeros((len(valid_output),2),dtype=np.int16)\n",
    "\n",
    "    for i in range(len(valid_hot_output)):\n",
    "        if valid_output[i] == 0:\n",
    "            valid_hot_output[i,0] = 1\n",
    "        else:\n",
    "            valid_hot_output[i,1] = 1\n",
    "    \n",
    "    return train_hot_output, valid_hot_output\n",
    "\n",
    "\n",
    "def test_set(test_image_patches):\n",
    "    all_test_patches = []\n",
    "    \n",
    "    for i in range(nr_images_test):\n",
    "        for j in range(len(test_image_patches[i])):\n",
    "            all_test_patches.append(test_image_patches[i][j])\n",
    "                \n",
    "    return all_test_patches\n"
   ]
  },
  {
   "cell_type": "markdown",
   "metadata": {},
   "source": [
    "Important to first make the output array. This is done with hot encoding"
   ]
  },
  {
   "cell_type": "code",
   "execution_count": 57,
   "metadata": {
    "collapsed": false
   },
   "outputs": [
    {
     "name": "stdout",
     "output_type": "stream",
     "text": [
      "(225216L, 1L, 32L, 32L)\n",
      "(224306L, 1L, 32L, 32L)\n"
     ]
    }
   ],
   "source": [
    "all_train_patches, all_train_output, valid_patches, valid_output = train_and_validation_set(image_patches, output_array)\n",
    "train_hot_output, valid_hot_output = hot_encoding(all_train_output, valid_output)\n",
    "\n",
    "all_test_patches = test_set(test_image_patches)\n",
    "\n",
    "print np.shape(all_train_patches)\n",
    "print np.shape(all_test_patches)"
   ]
  },
  {
   "cell_type": "markdown",
   "metadata": {},
   "source": [
    "Build the LeNet network"
   ]
  },
  {
   "cell_type": "code",
   "execution_count": 9,
   "metadata": {
    "collapsed": true
   },
   "outputs": [],
   "source": [
    "def buildLeNet(X1):\n",
    "    inputlayer = lasagne.layers.InputLayer(shape=(None, 1, 32, 32),input_var=X1)    \n",
    "    print inputlayer.output_shape\n",
    "    \n",
    "    layer1 = lasagne.layers.Conv2DLayer(inputlayer, num_filters=6, filter_size=(5,5), nonlinearity=lasagne.nonlinearities.sigmoid, W=lasagne.init.GlorotUniform())\n",
    "    print layer1.output_shape \n",
    "    \n",
    "    layer2 = lasagne.layers.MaxPool2DLayer(layer1, pool_size=(2, 2))\n",
    "    print layer2.output_shape \n",
    "    \n",
    "    layer3 = lasagne.layers.Conv2DLayer(layer2, num_filters=16, filter_size=(5,5), nonlinearity=lasagne.nonlinearities.sigmoid, W=lasagne.init.GlorotUniform())\n",
    "    print layer3.output_shape \n",
    "    \n",
    "    layer4 = lasagne.layers.MaxPool2DLayer(layer3, pool_size=(2, 2))\n",
    "    print layer4.output_shape \n",
    "    \n",
    "    layer4 = lasagne.layers.flatten(layer4)\n",
    "    print layer4.output_shape \n",
    "    \n",
    "    layer5 = lasagne.layers.DenseLayer(layer4,num_units=120,nonlinearity=lasagne.nonlinearities.sigmoid)    \n",
    "    print layer5.output_shape \n",
    "    \n",
    "    layer6 = lasagne.layers.DenseLayer(layer5,num_units=84,nonlinearity=lasagne.nonlinearities.sigmoid)\n",
    "    print layer6.output_shape \n",
    "    \n",
    "    outputlayer = lasagne.layers.DenseLayer(layer6,num_units=2,nonlinearity=lasagne.nonlinearities.sigmoid)     \n",
    "    print outputlayer.output_shape \n",
    "    \n",
    "    return layer1, layer2, layer3, layer4, layer5, layer6, outputlayer"
   ]
  },
  {
   "cell_type": "code",
   "execution_count": 10,
   "metadata": {
    "collapsed": false,
    "scrolled": true
   },
   "outputs": [
    {
     "name": "stdout",
     "output_type": "stream",
     "text": [
      "(None, 1, 32, 32)\n",
      "(None, 6, 28, 28)\n",
      "(None, 6, 14, 14)\n",
      "(None, 16, 10, 10)\n",
      "(None, 16, 5, 5)\n",
      "(None, 400)\n",
      "(None, 120)\n",
      "(None, 84)\n",
      "(None, 2)\n"
     ]
    }
   ],
   "source": [
    "X = theano.tensor.tensor4()\n",
    "Y = theano.tensor.matrix()\n",
    "layer1, layer2, layer3, layer4, layer5, layer6, outputlayer = buildLeNet(X)"
   ]
  },
  {
   "cell_type": "markdown",
   "metadata": {},
   "source": [
    "Defining functions for training, validating and testing the previously made LeNet network"
   ]
  },
  {
   "cell_type": "code",
   "execution_count": 11,
   "metadata": {
    "collapsed": false
   },
   "outputs": [
    {
     "name": "stderr",
     "output_type": "stream",
     "text": [
      "C:\\Users\\s137590\\AppData\\Local\\Continuum\\Anaconda2\\lib\\site-packages\\lasagne\\layers\\conv.py:489: UserWarning: The `image_shape` keyword argument to `tensor.nnet.conv2d` is deprecated, it has been renamed to `input_shape`.\n",
      "  border_mode=border_mode)\n"
     ]
    }
   ],
   "source": [
    "outputtrain = lasagne.layers.get_output(outputlayer) #function that gets the output from the network defined before.\n",
    "trainloss = lasagne.objectives.categorical_crossentropy(outputtrain, Y).mean() #function that computes the mean crossentropy between the output and the real labels.\n",
    "params = lasagne.layers.get_all_params(outputlayer, trainable=True) #function that gets all the parameters (weights) in the network.\n",
    "updates = lasagne.updates.momentum(trainloss, params, learning_rate=0.001) #function that performs an update of the weights based on the loss.\n",
    "train = theano.function(inputs=[X, Y], outputs=trainloss, updates=updates, allow_input_downcast=True) #function that does all the above based on training samples X and real labels Y.\n",
    "\n",
    "validate = theano.function(inputs=[X, Y], outputs=trainloss, allow_input_downcast=True) #function that computes the loss without performing an update\n",
    "\n",
    "outputtest = lasagne.layers.get_output(outputlayer, deterministic=True) #function that gets the output from the network defined before.\n",
    "test = theano.function(inputs=[X], outputs=outputtest, allow_input_downcast=True) #function that gets the output based on input X"
   ]
  },
  {
   "cell_type": "markdown",
   "metadata": {},
   "source": [
    "Then it is time to train the network"
   ]
  },
  {
   "cell_type": "code",
   "execution_count": 12,
   "metadata": {
    "collapsed": false
   },
   "outputs": [],
   "source": [
    "def training_the_network(all_train_output, valid_output, all_train_patches, valid_patches, minibatches = 250, minibatchsize = 100):\n",
    "\n",
    "    trainingsamples = np.arange(len(all_train_output)) #numbers from 0 until the number of samples\n",
    "    validsamples = np.arange(len(valid_output))\n",
    "\n",
    "    losslist = []\n",
    "    validlosslist = []\n",
    "\n",
    "    t0 = time.time()\n",
    "\n",
    "    for i in xrange(minibatches):\n",
    "        print(\"Currently at batch %d\" % i)\n",
    "\n",
    "        # Random train sample information. IMPORTANT: Use the hot encoded labels (that's the way the algorithm works)\n",
    "        random_train_samples = random.sample(trainingsamples, minibatchsize)\n",
    "        random_train_output = train_hot_output[random_train_samples]\n",
    "        random_train_patches = np.asarray(all_train_patches)[random_train_samples]\n",
    "\n",
    "        # Random validation sample information IMPORTANT: Use the hot encoded labels (that's the way the algorithm works)\n",
    "        random_valid_samples = random.sample(validsamples, minibatchsize)\n",
    "        random_valid_output = valid_hot_output[random_valid_samples]\n",
    "        random_valid_patches = np.asarray(valid_patches)[random_valid_samples]\n",
    "\n",
    "        print(random_train_output.shape)\n",
    "        print(random_train_patches.shape)\n",
    "\n",
    "        new_train_loss = train(random_train_patches, random_train_output)\n",
    "        losslist.append(new_train_loss)\n",
    "\n",
    "        new_valid_loss = validate(random_valid_patches, random_valid_output)\n",
    "        validlosslist.append(new_valid_loss)\n",
    "        #select random training en validation samples and perform training and validation steps here.\n",
    "\n",
    "    t1 = time.time()\n",
    "    print 'Training time: {} seconds'.format(t1-t0)\n",
    "    \n",
    "    return losslist, validlosslist"
   ]
  },
  {
   "cell_type": "code",
   "execution_count": 13,
   "metadata": {
    "collapsed": false
   },
   "outputs": [
    {
     "name": "stdout",
     "output_type": "stream",
     "text": [
      "Currently at batch 0\n",
      "(100L, 2L)\n",
      "(100L, 1L, 32L, 32L)\n",
      "Currently at batch 1\n",
      "(100L, 2L)\n",
      "(100L, 1L, 32L, 32L)\n",
      "Currently at batch 2\n",
      "(100L, 2L)\n",
      "(100L, 1L, 32L, 32L)\n",
      "Currently at batch 3\n",
      "(100L, 2L)\n",
      "(100L, 1L, 32L, 32L)\n",
      "Currently at batch 4\n",
      "(100L, 2L)\n",
      "(100L, 1L, 32L, 32L)\n",
      "Currently at batch 5\n",
      "(100L, 2L)\n",
      "(100L, 1L, 32L, 32L)\n",
      "Currently at batch 6\n",
      "(100L, 2L)\n",
      "(100L, 1L, 32L, 32L)\n",
      "Currently at batch 7\n",
      "(100L, 2L)\n",
      "(100L, 1L, 32L, 32L)\n",
      "Currently at batch 8\n",
      "(100L, 2L)\n",
      "(100L, 1L, 32L, 32L)\n",
      "Currently at batch 9\n",
      "(100L, 2L)\n",
      "(100L, 1L, 32L, 32L)\n",
      "Currently at batch 10\n",
      "(100L, 2L)\n",
      "(100L, 1L, 32L, 32L)\n",
      "Currently at batch 11\n",
      "(100L, 2L)\n",
      "(100L, 1L, 32L, 32L)\n",
      "Currently at batch 12\n",
      "(100L, 2L)\n",
      "(100L, 1L, 32L, 32L)\n",
      "Currently at batch 13\n",
      "(100L, 2L)\n",
      "(100L, 1L, 32L, 32L)\n",
      "Currently at batch 14\n",
      "(100L, 2L)\n",
      "(100L, 1L, 32L, 32L)\n",
      "Currently at batch 15\n",
      "(100L, 2L)\n",
      "(100L, 1L, 32L, 32L)\n",
      "Currently at batch 16\n",
      "(100L, 2L)\n",
      "(100L, 1L, 32L, 32L)\n",
      "Currently at batch 17\n",
      "(100L, 2L)\n",
      "(100L, 1L, 32L, 32L)\n",
      "Currently at batch 18\n",
      "(100L, 2L)\n",
      "(100L, 1L, 32L, 32L)\n",
      "Currently at batch 19\n",
      "(100L, 2L)\n",
      "(100L, 1L, 32L, 32L)\n",
      "Currently at batch 20\n",
      "(100L, 2L)\n",
      "(100L, 1L, 32L, 32L)\n",
      "Currently at batch 21\n",
      "(100L, 2L)\n",
      "(100L, 1L, 32L, 32L)\n",
      "Currently at batch 22\n",
      "(100L, 2L)\n",
      "(100L, 1L, 32L, 32L)\n",
      "Currently at batch 23\n",
      "(100L, 2L)\n",
      "(100L, 1L, 32L, 32L)\n",
      "Currently at batch 24\n",
      "(100L, 2L)\n",
      "(100L, 1L, 32L, 32L)\n",
      "Currently at batch 25\n",
      "(100L, 2L)\n",
      "(100L, 1L, 32L, 32L)\n",
      "Currently at batch 26\n",
      "(100L, 2L)\n",
      "(100L, 1L, 32L, 32L)\n",
      "Currently at batch 27\n",
      "(100L, 2L)\n",
      "(100L, 1L, 32L, 32L)\n",
      "Currently at batch 28\n",
      "(100L, 2L)\n",
      "(100L, 1L, 32L, 32L)\n",
      "Currently at batch 29\n",
      "(100L, 2L)\n",
      "(100L, 1L, 32L, 32L)\n",
      "Currently at batch 30\n",
      "(100L, 2L)\n",
      "(100L, 1L, 32L, 32L)\n",
      "Currently at batch 31\n",
      "(100L, 2L)\n",
      "(100L, 1L, 32L, 32L)\n",
      "Currently at batch 32\n",
      "(100L, 2L)\n",
      "(100L, 1L, 32L, 32L)\n",
      "Currently at batch 33\n",
      "(100L, 2L)\n",
      "(100L, 1L, 32L, 32L)\n",
      "Currently at batch 34\n",
      "(100L, 2L)\n",
      "(100L, 1L, 32L, 32L)\n",
      "Currently at batch 35\n",
      "(100L, 2L)\n",
      "(100L, 1L, 32L, 32L)\n",
      "Currently at batch 36\n",
      "(100L, 2L)\n",
      "(100L, 1L, 32L, 32L)\n",
      "Currently at batch 37\n",
      "(100L, 2L)\n",
      "(100L, 1L, 32L, 32L)\n",
      "Currently at batch 38\n",
      "(100L, 2L)\n",
      "(100L, 1L, 32L, 32L)\n",
      "Currently at batch 39\n",
      "(100L, 2L)\n",
      "(100L, 1L, 32L, 32L)\n",
      "Currently at batch 40\n",
      "(100L, 2L)\n",
      "(100L, 1L, 32L, 32L)\n",
      "Currently at batch 41\n",
      "(100L, 2L)\n",
      "(100L, 1L, 32L, 32L)\n",
      "Currently at batch 42\n",
      "(100L, 2L)\n",
      "(100L, 1L, 32L, 32L)\n",
      "Currently at batch 43\n",
      "(100L, 2L)\n",
      "(100L, 1L, 32L, 32L)\n",
      "Currently at batch 44\n",
      "(100L, 2L)\n",
      "(100L, 1L, 32L, 32L)\n",
      "Currently at batch 45\n",
      "(100L, 2L)\n",
      "(100L, 1L, 32L, 32L)\n",
      "Currently at batch 46\n",
      "(100L, 2L)\n",
      "(100L, 1L, 32L, 32L)\n",
      "Currently at batch 47\n",
      "(100L, 2L)\n",
      "(100L, 1L, 32L, 32L)\n",
      "Currently at batch 48\n",
      "(100L, 2L)\n",
      "(100L, 1L, 32L, 32L)\n",
      "Currently at batch 49\n",
      "(100L, 2L)\n",
      "(100L, 1L, 32L, 32L)\n",
      "Currently at batch 50\n",
      "(100L, 2L)\n",
      "(100L, 1L, 32L, 32L)\n",
      "Currently at batch 51\n",
      "(100L, 2L)\n",
      "(100L, 1L, 32L, 32L)\n",
      "Currently at batch 52\n",
      "(100L, 2L)\n",
      "(100L, 1L, 32L, 32L)\n",
      "Currently at batch 53\n",
      "(100L, 2L)\n",
      "(100L, 1L, 32L, 32L)\n",
      "Currently at batch 54\n",
      "(100L, 2L)\n",
      "(100L, 1L, 32L, 32L)\n",
      "Currently at batch 55\n",
      "(100L, 2L)\n",
      "(100L, 1L, 32L, 32L)\n",
      "Currently at batch 56\n",
      "(100L, 2L)\n",
      "(100L, 1L, 32L, 32L)\n",
      "Currently at batch 57\n",
      "(100L, 2L)\n",
      "(100L, 1L, 32L, 32L)\n",
      "Currently at batch 58\n",
      "(100L, 2L)\n",
      "(100L, 1L, 32L, 32L)\n",
      "Currently at batch 59\n",
      "(100L, 2L)\n",
      "(100L, 1L, 32L, 32L)\n",
      "Currently at batch 60\n",
      "(100L, 2L)\n",
      "(100L, 1L, 32L, 32L)\n",
      "Currently at batch 61\n",
      "(100L, 2L)\n",
      "(100L, 1L, 32L, 32L)\n",
      "Currently at batch 62\n",
      "(100L, 2L)\n",
      "(100L, 1L, 32L, 32L)\n",
      "Currently at batch 63\n",
      "(100L, 2L)\n",
      "(100L, 1L, 32L, 32L)\n",
      "Currently at batch 64\n",
      "(100L, 2L)\n",
      "(100L, 1L, 32L, 32L)\n",
      "Currently at batch 65\n",
      "(100L, 2L)\n",
      "(100L, 1L, 32L, 32L)\n",
      "Currently at batch 66\n",
      "(100L, 2L)\n",
      "(100L, 1L, 32L, 32L)\n",
      "Currently at batch 67\n",
      "(100L, 2L)\n",
      "(100L, 1L, 32L, 32L)\n",
      "Currently at batch 68\n",
      "(100L, 2L)\n",
      "(100L, 1L, 32L, 32L)\n",
      "Currently at batch 69\n",
      "(100L, 2L)\n",
      "(100L, 1L, 32L, 32L)\n",
      "Currently at batch 70\n",
      "(100L, 2L)\n",
      "(100L, 1L, 32L, 32L)\n",
      "Currently at batch 71\n",
      "(100L, 2L)\n",
      "(100L, 1L, 32L, 32L)\n",
      "Currently at batch 72\n",
      "(100L, 2L)\n",
      "(100L, 1L, 32L, 32L)\n",
      "Currently at batch 73\n",
      "(100L, 2L)\n",
      "(100L, 1L, 32L, 32L)\n",
      "Currently at batch 74\n",
      "(100L, 2L)\n",
      "(100L, 1L, 32L, 32L)\n",
      "Currently at batch 75\n",
      "(100L, 2L)\n",
      "(100L, 1L, 32L, 32L)\n",
      "Currently at batch 76\n",
      "(100L, 2L)\n",
      "(100L, 1L, 32L, 32L)\n",
      "Currently at batch 77\n",
      "(100L, 2L)\n",
      "(100L, 1L, 32L, 32L)\n",
      "Currently at batch 78\n",
      "(100L, 2L)\n",
      "(100L, 1L, 32L, 32L)\n",
      "Currently at batch 79\n",
      "(100L, 2L)\n",
      "(100L, 1L, 32L, 32L)\n",
      "Currently at batch 80\n",
      "(100L, 2L)\n",
      "(100L, 1L, 32L, 32L)\n",
      "Currently at batch 81\n",
      "(100L, 2L)\n",
      "(100L, 1L, 32L, 32L)\n",
      "Currently at batch 82\n",
      "(100L, 2L)\n",
      "(100L, 1L, 32L, 32L)\n",
      "Currently at batch 83\n",
      "(100L, 2L)\n",
      "(100L, 1L, 32L, 32L)\n",
      "Currently at batch 84\n",
      "(100L, 2L)\n",
      "(100L, 1L, 32L, 32L)\n",
      "Currently at batch 85\n",
      "(100L, 2L)\n",
      "(100L, 1L, 32L, 32L)\n",
      "Currently at batch 86\n",
      "(100L, 2L)\n",
      "(100L, 1L, 32L, 32L)\n",
      "Currently at batch 87\n",
      "(100L, 2L)\n",
      "(100L, 1L, 32L, 32L)\n",
      "Currently at batch 88\n",
      "(100L, 2L)\n",
      "(100L, 1L, 32L, 32L)\n",
      "Currently at batch 89\n",
      "(100L, 2L)\n",
      "(100L, 1L, 32L, 32L)\n",
      "Currently at batch 90\n",
      "(100L, 2L)\n",
      "(100L, 1L, 32L, 32L)\n",
      "Currently at batch 91\n",
      "(100L, 2L)\n",
      "(100L, 1L, 32L, 32L)\n",
      "Currently at batch 92\n",
      "(100L, 2L)\n",
      "(100L, 1L, 32L, 32L)\n",
      "Currently at batch 93\n",
      "(100L, 2L)\n",
      "(100L, 1L, 32L, 32L)\n",
      "Currently at batch 94\n",
      "(100L, 2L)\n",
      "(100L, 1L, 32L, 32L)\n",
      "Currently at batch 95\n",
      "(100L, 2L)\n",
      "(100L, 1L, 32L, 32L)\n",
      "Currently at batch 96\n",
      "(100L, 2L)\n",
      "(100L, 1L, 32L, 32L)\n",
      "Currently at batch 97\n",
      "(100L, 2L)\n",
      "(100L, 1L, 32L, 32L)\n",
      "Currently at batch 98\n",
      "(100L, 2L)\n",
      "(100L, 1L, 32L, 32L)\n",
      "Currently at batch 99\n",
      "(100L, 2L)\n",
      "(100L, 1L, 32L, 32L)\n",
      "Currently at batch 100\n",
      "(100L, 2L)\n",
      "(100L, 1L, 32L, 32L)\n",
      "Currently at batch 101\n",
      "(100L, 2L)\n",
      "(100L, 1L, 32L, 32L)\n",
      "Currently at batch 102\n",
      "(100L, 2L)\n",
      "(100L, 1L, 32L, 32L)\n",
      "Currently at batch 103\n",
      "(100L, 2L)\n",
      "(100L, 1L, 32L, 32L)\n",
      "Currently at batch 104\n",
      "(100L, 2L)\n",
      "(100L, 1L, 32L, 32L)\n",
      "Currently at batch 105\n",
      "(100L, 2L)\n",
      "(100L, 1L, 32L, 32L)\n",
      "Currently at batch 106\n",
      "(100L, 2L)\n",
      "(100L, 1L, 32L, 32L)\n",
      "Currently at batch 107\n",
      "(100L, 2L)\n",
      "(100L, 1L, 32L, 32L)\n",
      "Currently at batch 108\n",
      "(100L, 2L)\n",
      "(100L, 1L, 32L, 32L)\n",
      "Currently at batch 109\n",
      "(100L, 2L)\n",
      "(100L, 1L, 32L, 32L)\n",
      "Currently at batch 110\n",
      "(100L, 2L)\n",
      "(100L, 1L, 32L, 32L)\n",
      "Currently at batch 111\n",
      "(100L, 2L)\n",
      "(100L, 1L, 32L, 32L)\n",
      "Currently at batch 112\n",
      "(100L, 2L)\n",
      "(100L, 1L, 32L, 32L)\n",
      "Currently at batch 113\n",
      "(100L, 2L)\n",
      "(100L, 1L, 32L, 32L)\n",
      "Currently at batch 114\n",
      "(100L, 2L)\n",
      "(100L, 1L, 32L, 32L)\n",
      "Currently at batch 115\n",
      "(100L, 2L)\n",
      "(100L, 1L, 32L, 32L)\n",
      "Currently at batch 116\n",
      "(100L, 2L)\n",
      "(100L, 1L, 32L, 32L)\n",
      "Currently at batch 117\n",
      "(100L, 2L)\n",
      "(100L, 1L, 32L, 32L)\n",
      "Currently at batch 118\n",
      "(100L, 2L)\n",
      "(100L, 1L, 32L, 32L)\n",
      "Currently at batch 119\n",
      "(100L, 2L)\n",
      "(100L, 1L, 32L, 32L)\n",
      "Currently at batch 120\n",
      "(100L, 2L)\n",
      "(100L, 1L, 32L, 32L)\n",
      "Currently at batch 121\n",
      "(100L, 2L)\n",
      "(100L, 1L, 32L, 32L)\n",
      "Currently at batch 122\n",
      "(100L, 2L)\n",
      "(100L, 1L, 32L, 32L)\n",
      "Currently at batch 123\n",
      "(100L, 2L)\n",
      "(100L, 1L, 32L, 32L)\n",
      "Currently at batch 124\n",
      "(100L, 2L)\n",
      "(100L, 1L, 32L, 32L)\n",
      "Currently at batch 125\n",
      "(100L, 2L)\n",
      "(100L, 1L, 32L, 32L)\n",
      "Currently at batch 126\n",
      "(100L, 2L)\n",
      "(100L, 1L, 32L, 32L)\n",
      "Currently at batch 127\n",
      "(100L, 2L)\n",
      "(100L, 1L, 32L, 32L)\n",
      "Currently at batch 128\n",
      "(100L, 2L)\n",
      "(100L, 1L, 32L, 32L)\n",
      "Currently at batch 129\n",
      "(100L, 2L)\n",
      "(100L, 1L, 32L, 32L)\n",
      "Currently at batch 130\n",
      "(100L, 2L)\n",
      "(100L, 1L, 32L, 32L)\n",
      "Currently at batch 131\n",
      "(100L, 2L)\n",
      "(100L, 1L, 32L, 32L)\n",
      "Currently at batch 132\n",
      "(100L, 2L)\n",
      "(100L, 1L, 32L, 32L)\n",
      "Currently at batch 133\n",
      "(100L, 2L)\n",
      "(100L, 1L, 32L, 32L)\n",
      "Currently at batch 134\n",
      "(100L, 2L)\n",
      "(100L, 1L, 32L, 32L)\n",
      "Currently at batch 135\n",
      "(100L, 2L)\n",
      "(100L, 1L, 32L, 32L)\n",
      "Currently at batch 136\n",
      "(100L, 2L)\n",
      "(100L, 1L, 32L, 32L)\n",
      "Currently at batch 137\n",
      "(100L, 2L)\n",
      "(100L, 1L, 32L, 32L)\n",
      "Currently at batch 138\n",
      "(100L, 2L)\n",
      "(100L, 1L, 32L, 32L)\n",
      "Currently at batch 139\n",
      "(100L, 2L)\n",
      "(100L, 1L, 32L, 32L)\n",
      "Currently at batch 140\n",
      "(100L, 2L)\n",
      "(100L, 1L, 32L, 32L)\n",
      "Currently at batch 141\n",
      "(100L, 2L)\n",
      "(100L, 1L, 32L, 32L)\n",
      "Currently at batch 142\n",
      "(100L, 2L)\n",
      "(100L, 1L, 32L, 32L)\n",
      "Currently at batch 143\n",
      "(100L, 2L)\n",
      "(100L, 1L, 32L, 32L)\n",
      "Currently at batch 144\n",
      "(100L, 2L)\n",
      "(100L, 1L, 32L, 32L)\n",
      "Currently at batch 145\n",
      "(100L, 2L)\n",
      "(100L, 1L, 32L, 32L)\n",
      "Currently at batch 146\n",
      "(100L, 2L)\n",
      "(100L, 1L, 32L, 32L)\n",
      "Currently at batch 147\n",
      "(100L, 2L)\n",
      "(100L, 1L, 32L, 32L)\n",
      "Currently at batch 148\n",
      "(100L, 2L)\n",
      "(100L, 1L, 32L, 32L)\n",
      "Currently at batch 149\n",
      "(100L, 2L)\n",
      "(100L, 1L, 32L, 32L)\n",
      "Currently at batch 150\n",
      "(100L, 2L)\n",
      "(100L, 1L, 32L, 32L)\n",
      "Currently at batch 151\n",
      "(100L, 2L)\n",
      "(100L, 1L, 32L, 32L)\n",
      "Currently at batch 152\n",
      "(100L, 2L)\n",
      "(100L, 1L, 32L, 32L)\n",
      "Currently at batch 153\n",
      "(100L, 2L)\n",
      "(100L, 1L, 32L, 32L)\n",
      "Currently at batch 154\n",
      "(100L, 2L)\n",
      "(100L, 1L, 32L, 32L)\n",
      "Currently at batch 155\n",
      "(100L, 2L)\n",
      "(100L, 1L, 32L, 32L)\n",
      "Currently at batch 156\n",
      "(100L, 2L)\n",
      "(100L, 1L, 32L, 32L)\n",
      "Currently at batch 157\n",
      "(100L, 2L)\n",
      "(100L, 1L, 32L, 32L)\n",
      "Currently at batch 158\n",
      "(100L, 2L)\n",
      "(100L, 1L, 32L, 32L)\n",
      "Currently at batch 159\n",
      "(100L, 2L)\n",
      "(100L, 1L, 32L, 32L)\n",
      "Currently at batch 160\n",
      "(100L, 2L)\n",
      "(100L, 1L, 32L, 32L)\n",
      "Currently at batch 161\n",
      "(100L, 2L)\n",
      "(100L, 1L, 32L, 32L)\n",
      "Currently at batch 162\n",
      "(100L, 2L)\n",
      "(100L, 1L, 32L, 32L)\n",
      "Currently at batch 163\n",
      "(100L, 2L)\n",
      "(100L, 1L, 32L, 32L)\n",
      "Currently at batch 164\n",
      "(100L, 2L)\n",
      "(100L, 1L, 32L, 32L)\n",
      "Currently at batch 165\n",
      "(100L, 2L)\n",
      "(100L, 1L, 32L, 32L)\n",
      "Currently at batch 166\n",
      "(100L, 2L)\n",
      "(100L, 1L, 32L, 32L)\n",
      "Currently at batch 167\n",
      "(100L, 2L)\n",
      "(100L, 1L, 32L, 32L)\n",
      "Currently at batch 168\n",
      "(100L, 2L)\n",
      "(100L, 1L, 32L, 32L)\n",
      "Currently at batch 169\n",
      "(100L, 2L)\n",
      "(100L, 1L, 32L, 32L)\n",
      "Currently at batch 170\n",
      "(100L, 2L)\n",
      "(100L, 1L, 32L, 32L)\n",
      "Currently at batch 171\n",
      "(100L, 2L)\n",
      "(100L, 1L, 32L, 32L)\n",
      "Currently at batch 172\n",
      "(100L, 2L)\n",
      "(100L, 1L, 32L, 32L)\n",
      "Currently at batch 173\n",
      "(100L, 2L)\n",
      "(100L, 1L, 32L, 32L)\n",
      "Currently at batch 174\n",
      "(100L, 2L)\n",
      "(100L, 1L, 32L, 32L)\n",
      "Currently at batch 175\n",
      "(100L, 2L)\n",
      "(100L, 1L, 32L, 32L)\n",
      "Currently at batch 176\n",
      "(100L, 2L)\n",
      "(100L, 1L, 32L, 32L)\n",
      "Currently at batch 177\n",
      "(100L, 2L)\n",
      "(100L, 1L, 32L, 32L)\n",
      "Currently at batch 178\n",
      "(100L, 2L)\n",
      "(100L, 1L, 32L, 32L)\n",
      "Currently at batch 179\n",
      "(100L, 2L)\n",
      "(100L, 1L, 32L, 32L)\n",
      "Currently at batch 180\n",
      "(100L, 2L)\n",
      "(100L, 1L, 32L, 32L)\n",
      "Currently at batch 181\n",
      "(100L, 2L)\n",
      "(100L, 1L, 32L, 32L)\n",
      "Currently at batch 182\n",
      "(100L, 2L)\n",
      "(100L, 1L, 32L, 32L)\n",
      "Currently at batch 183\n",
      "(100L, 2L)\n",
      "(100L, 1L, 32L, 32L)\n",
      "Currently at batch 184\n",
      "(100L, 2L)\n",
      "(100L, 1L, 32L, 32L)\n",
      "Currently at batch 185\n",
      "(100L, 2L)\n",
      "(100L, 1L, 32L, 32L)\n",
      "Currently at batch 186\n",
      "(100L, 2L)\n",
      "(100L, 1L, 32L, 32L)\n",
      "Currently at batch 187\n",
      "(100L, 2L)\n",
      "(100L, 1L, 32L, 32L)\n",
      "Currently at batch 188\n",
      "(100L, 2L)\n",
      "(100L, 1L, 32L, 32L)\n",
      "Currently at batch 189\n",
      "(100L, 2L)\n",
      "(100L, 1L, 32L, 32L)\n",
      "Currently at batch 190\n",
      "(100L, 2L)\n",
      "(100L, 1L, 32L, 32L)\n",
      "Currently at batch 191\n",
      "(100L, 2L)\n",
      "(100L, 1L, 32L, 32L)\n",
      "Currently at batch 192\n",
      "(100L, 2L)\n",
      "(100L, 1L, 32L, 32L)\n",
      "Currently at batch 193\n",
      "(100L, 2L)\n",
      "(100L, 1L, 32L, 32L)\n",
      "Currently at batch 194\n",
      "(100L, 2L)\n",
      "(100L, 1L, 32L, 32L)\n",
      "Currently at batch 195\n",
      "(100L, 2L)\n",
      "(100L, 1L, 32L, 32L)\n",
      "Currently at batch 196\n",
      "(100L, 2L)\n",
      "(100L, 1L, 32L, 32L)\n",
      "Currently at batch 197\n",
      "(100L, 2L)\n",
      "(100L, 1L, 32L, 32L)\n",
      "Currently at batch 198\n",
      "(100L, 2L)\n",
      "(100L, 1L, 32L, 32L)\n",
      "Currently at batch 199\n",
      "(100L, 2L)\n",
      "(100L, 1L, 32L, 32L)\n",
      "Currently at batch 200\n",
      "(100L, 2L)\n",
      "(100L, 1L, 32L, 32L)\n",
      "Currently at batch 201\n",
      "(100L, 2L)\n",
      "(100L, 1L, 32L, 32L)\n",
      "Currently at batch 202\n",
      "(100L, 2L)\n",
      "(100L, 1L, 32L, 32L)\n",
      "Currently at batch 203\n",
      "(100L, 2L)\n",
      "(100L, 1L, 32L, 32L)\n",
      "Currently at batch 204\n",
      "(100L, 2L)\n",
      "(100L, 1L, 32L, 32L)\n",
      "Currently at batch 205\n",
      "(100L, 2L)\n",
      "(100L, 1L, 32L, 32L)\n",
      "Currently at batch 206\n",
      "(100L, 2L)\n",
      "(100L, 1L, 32L, 32L)\n",
      "Currently at batch 207\n",
      "(100L, 2L)\n",
      "(100L, 1L, 32L, 32L)\n",
      "Currently at batch 208\n",
      "(100L, 2L)\n",
      "(100L, 1L, 32L, 32L)\n",
      "Currently at batch 209\n",
      "(100L, 2L)\n",
      "(100L, 1L, 32L, 32L)\n",
      "Currently at batch 210\n",
      "(100L, 2L)\n",
      "(100L, 1L, 32L, 32L)\n",
      "Currently at batch 211\n",
      "(100L, 2L)\n",
      "(100L, 1L, 32L, 32L)\n",
      "Currently at batch 212\n",
      "(100L, 2L)\n",
      "(100L, 1L, 32L, 32L)\n",
      "Currently at batch 213\n",
      "(100L, 2L)\n",
      "(100L, 1L, 32L, 32L)\n",
      "Currently at batch 214\n",
      "(100L, 2L)\n",
      "(100L, 1L, 32L, 32L)\n",
      "Currently at batch 215\n",
      "(100L, 2L)\n",
      "(100L, 1L, 32L, 32L)\n",
      "Currently at batch 216\n",
      "(100L, 2L)\n",
      "(100L, 1L, 32L, 32L)\n",
      "Currently at batch 217\n",
      "(100L, 2L)\n",
      "(100L, 1L, 32L, 32L)\n",
      "Currently at batch 218\n",
      "(100L, 2L)\n",
      "(100L, 1L, 32L, 32L)\n",
      "Currently at batch 219\n",
      "(100L, 2L)\n",
      "(100L, 1L, 32L, 32L)\n",
      "Currently at batch 220\n",
      "(100L, 2L)\n",
      "(100L, 1L, 32L, 32L)\n",
      "Currently at batch 221\n",
      "(100L, 2L)\n",
      "(100L, 1L, 32L, 32L)\n",
      "Currently at batch 222\n",
      "(100L, 2L)\n",
      "(100L, 1L, 32L, 32L)\n",
      "Currently at batch 223\n",
      "(100L, 2L)\n",
      "(100L, 1L, 32L, 32L)\n",
      "Currently at batch 224\n",
      "(100L, 2L)\n",
      "(100L, 1L, 32L, 32L)\n",
      "Currently at batch 225\n",
      "(100L, 2L)\n",
      "(100L, 1L, 32L, 32L)\n",
      "Currently at batch 226\n",
      "(100L, 2L)\n",
      "(100L, 1L, 32L, 32L)\n",
      "Currently at batch 227\n",
      "(100L, 2L)\n",
      "(100L, 1L, 32L, 32L)\n",
      "Currently at batch 228\n",
      "(100L, 2L)\n",
      "(100L, 1L, 32L, 32L)\n",
      "Currently at batch 229\n",
      "(100L, 2L)\n",
      "(100L, 1L, 32L, 32L)\n",
      "Currently at batch 230\n",
      "(100L, 2L)\n",
      "(100L, 1L, 32L, 32L)\n",
      "Currently at batch 231\n",
      "(100L, 2L)\n",
      "(100L, 1L, 32L, 32L)\n",
      "Currently at batch 232\n",
      "(100L, 2L)\n",
      "(100L, 1L, 32L, 32L)\n",
      "Currently at batch 233\n",
      "(100L, 2L)\n",
      "(100L, 1L, 32L, 32L)\n",
      "Currently at batch 234\n",
      "(100L, 2L)\n",
      "(100L, 1L, 32L, 32L)\n",
      "Currently at batch 235\n",
      "(100L, 2L)\n",
      "(100L, 1L, 32L, 32L)\n",
      "Currently at batch 236\n",
      "(100L, 2L)\n",
      "(100L, 1L, 32L, 32L)\n",
      "Currently at batch 237\n",
      "(100L, 2L)\n",
      "(100L, 1L, 32L, 32L)\n",
      "Currently at batch 238\n",
      "(100L, 2L)\n",
      "(100L, 1L, 32L, 32L)\n",
      "Currently at batch 239\n",
      "(100L, 2L)\n",
      "(100L, 1L, 32L, 32L)\n",
      "Currently at batch 240\n",
      "(100L, 2L)\n",
      "(100L, 1L, 32L, 32L)\n",
      "Currently at batch 241\n",
      "(100L, 2L)\n",
      "(100L, 1L, 32L, 32L)\n",
      "Currently at batch 242\n",
      "(100L, 2L)\n",
      "(100L, 1L, 32L, 32L)\n",
      "Currently at batch 243\n",
      "(100L, 2L)\n",
      "(100L, 1L, 32L, 32L)\n",
      "Currently at batch 244\n",
      "(100L, 2L)\n",
      "(100L, 1L, 32L, 32L)\n",
      "Currently at batch 245\n",
      "(100L, 2L)\n",
      "(100L, 1L, 32L, 32L)\n",
      "Currently at batch 246\n",
      "(100L, 2L)\n",
      "(100L, 1L, 32L, 32L)\n",
      "Currently at batch 247\n",
      "(100L, 2L)\n",
      "(100L, 1L, 32L, 32L)\n",
      "Currently at batch 248\n",
      "(100L, 2L)\n",
      "(100L, 1L, 32L, 32L)\n",
      "Currently at batch 249\n",
      "(100L, 2L)\n",
      "(100L, 1L, 32L, 32L)\n",
      "Training time: 154.406000137 seconds\n"
     ]
    }
   ],
   "source": [
    "losslist, validlosslist = training_the_network(all_train_output, valid_output, all_train_patches, valid_patches, minibatches = 250, minibatchsize = 100)"
   ]
  },
  {
   "cell_type": "code",
   "execution_count": 14,
   "metadata": {
    "collapsed": false
   },
   "outputs": [
    {
     "data": {
      "image/png": "[encoded data removed]",
      "text/plain": [
       "<matplotlib.figure.Figure at 0x57237438>"
      ]
     },
     "metadata": {},
     "output_type": "display_data"
    }
   ],
   "source": [
    "plt.figure()\n",
    "plt.plot(losslist)\n",
    "plt.plot(validlosslist)\n",
    "plt.legend(['Training loss','Validation loss'])\n",
    "plt.show()"
   ]
  },
  {
   "cell_type": "code",
   "execution_count": 15,
   "metadata": {
    "collapsed": false
   },
   "outputs": [
    {
     "name": "stderr",
     "output_type": "stream",
     "text": [
      "C:\\Users\\s137590\\AppData\\Local\\Continuum\\Anaconda2\\lib\\site-packages\\ipykernel\\__main__.py:148: VisibleDeprecationWarning: using a non-integer number instead of an integer will result in an error in the future\n",
      "C:\\Users\\s137590\\AppData\\Local\\Continuum\\Anaconda2\\lib\\site-packages\\ipykernel\\__main__.py:149: VisibleDeprecationWarning: using a non-integer number instead of an integer will result in an error in the future\n"
     ]
    },
    {
     "data": {
      "image/png": "[encoded data removed]",
      "text/plain": [
       "<matplotlib.figure.Figure at 0x58381cc0>"
      ]
     },
     "metadata": {},
     "output_type": "display_data"
    },
    {
     "data": {
      "image/png": "[encoded data removed]",
      "text/plain": [
       "<matplotlib.figure.Figure at 0x58381d30>"
      ]
     },
     "metadata": {},
     "output_type": "display_data"
    }
   ],
   "source": [
    "output_matrix = createVesselImage(output_array[1], training_mask_matrices[1], 32)\n",
    "\n",
    "plt.matshow(output_matrix)\n",
    "plt.matshow(training_manual1_matrices[1])\n",
    "plt.show()"
   ]
  },
  {
   "cell_type": "markdown",
   "metadata": {},
   "source": [
    "<h4>Evaluation on the test set</h4>"
   ]
  },
  {
   "cell_type": "code",
   "execution_count": 32,
   "metadata": {
    "collapsed": false
   },
   "outputs": [
    {
     "name": "stdout",
     "output_type": "stream",
     "text": [
      "Testing time: 0.0140001773834 seconds\n",
      "[0 0 0 0 0 0 0 0 0 0]\n"
     ]
    }
   ],
   "source": [
    "t0 = time.time()\n",
    "testing = test(all_test_patches[0:10])\n",
    "test_set_predictions = np.argmax(testing, axis = 1)\n",
    "t1 = time.time()\n",
    "print 'Testing time: {} seconds'.format(t1-t0)\n",
    "\n",
    "print test_set_predictions"
   ]
  },
  {
   "cell_type": "code",
   "execution_count": 33,
   "metadata": {
    "collapsed": false
   },
   "outputs": [
    {
     "name": "stdout",
     "output_type": "stream",
     "text": [
      "Accuracy: 0.0\n"
     ]
    },
    {
     "name": "stderr",
     "output_type": "stream",
     "text": [
      "C:\\Users\\s137590\\AppData\\Local\\Continuum\\Anaconda2\\lib\\site-packages\\ipykernel\\__main__.py:1: DeprecationWarning: elementwise == comparison failed; this will raise an error in the future.\n",
      "  if __name__ == '__main__':\n"
     ]
    }
   ],
   "source": [
    "TP = np.sum(test_output_array == test_set_predictions) # This is not correct I think\n",
    "print 'Accuracy: {}'.format(float(TP)/float(len(test_output_array)))"
   ]
  },
  {
   "cell_type": "markdown",
   "metadata": {},
   "source": [
    "<h4>What has the network learned?</h4>"
   ]
  },
  {
   "cell_type": "code",
   "execution_count": 34,
   "metadata": {
    "collapsed": true
   },
   "outputs": [],
   "source": [
    "outputlayer1 = lasagne.layers.get_output(layer1) \n",
    "outputfeatures = theano.function(inputs=[X], outputs=outputlayer1, allow_input_downcast=True) "
   ]
  },
  {
   "cell_type": "code",
   "execution_count": 40,
   "metadata": {
    "collapsed": false
   },
   "outputs": [
    {
     "name": "stdout",
     "output_type": "stream",
     "text": [
      "(500L, 6L, 28L, 28L)\n"
     ]
    }
   ],
   "source": [
    "features = outputfeatures(all_test_patches[0:500])\n",
    "print np.shape(features)"
   ]
  },
  {
   "cell_type": "code",
   "execution_count": 41,
   "metadata": {
    "collapsed": false
   },
   "outputs": [
    {
     "name": "stdout",
     "output_type": "stream",
     "text": [
      "(500L, 6L, 28L, 28L)\n"
     ]
    },
    {
     "data": {
      "image/png": "[encoded data removed]",
      "text/plain": [
       "<matplotlib.figure.Figure at 0x59dae198>"
      ]
     },
     "metadata": {},
     "output_type": "display_data"
    },
    {
     "data": {
      "image/png": "[encoded data removed]",
      "text/plain": [
       "<matplotlib.figure.Figure at 0x59b51ef0>"
      ]
     },
     "metadata": {},
     "output_type": "display_data"
    },
    {
     "data": {
      "image/png": "[encoded data removed]",
      "text/plain": [
       "<matplotlib.figure.Figure at 0x59c45dd8>"
      ]
     },
     "metadata": {},
     "output_type": "display_data"
    },
    {
     "data": {
      "image/png": "[encoded data removed]",
      "text/plain": [
       "<matplotlib.figure.Figure at 0x5825f2b0>"
      ]
     },
     "metadata": {},
     "output_type": "display_data"
    },
    {
     "data": {
      "image/png": "[encoded data removed]",
      "text/plain": [
       "<matplotlib.figure.Figure at 0x59a4fbe0>"
      ]
     },
     "metadata": {},
     "output_type": "display_data"
    },
    {
     "data": {
      "image/png": "[encoded data removed]",
      "text/plain": [
       "<matplotlib.figure.Figure at 0x59965cf8>"
      ]
     },
     "metadata": {},
     "output_type": "display_data"
    }
   ],
   "source": [
    "print features.shape\n",
    "for i in xrange(6):\n",
    "    plt.figure()\n",
    "    plt.imshow(features[1,i],cmap='gray_r',interpolation='none')\n",
    "    plt.show()"
   ]
  },
  {
   "cell_type": "markdown",
   "metadata": {
    "collapsed": true
   },
   "source": [
    "<h4> Visualising the filters </h4>\n"
   ]
  },
  {
   "cell_type": "code",
   "execution_count": 42,
   "metadata": {
    "collapsed": true
   },
   "outputs": [],
   "source": [
    "weights = lasagne.layers.get_all_param_values(layer1)\n",
    "filters = weights[0]\n",
    "biases = weights[1]"
   ]
  },
  {
   "cell_type": "code",
   "execution_count": 46,
   "metadata": {
    "collapsed": false
   },
   "outputs": [
    {
     "name": "stdout",
     "output_type": "stream",
     "text": [
      "(6L, 1L, 5L, 5L)\n",
      "(6L,)\n"
     ]
    },
    {
     "data": {
      "image/png": "[encoded data removed]",
      "text/plain": [
       "<matplotlib.figure.Figure at 0x5845cef0>"
      ]
     },
     "metadata": {},
     "output_type": "display_data"
    },
    {
     "data": {
      "image/png": "[encoded data removed]",
      "text/plain": [
       "<matplotlib.figure.Figure at 0x59ad7908>"
      ]
     },
     "metadata": {},
     "output_type": "display_data"
    },
    {
     "data": {
      "image/png": "[encoded data removed]",
      "text/plain": [
       "<matplotlib.figure.Figure at 0x57ed5e80>"
      ]
     },
     "metadata": {},
     "output_type": "display_data"
    },
    {
     "data": {
      "image/png": "[encoded data removed]",
      "text/plain": [
       "<matplotlib.figure.Figure at 0x5991f978>"
      ]
     },
     "metadata": {},
     "output_type": "display_data"
    },
    {
     "data": {
      "image/png": "[encoded data removed]",
      "text/plain": [
       "<matplotlib.figure.Figure at 0x58793940>"
      ]
     },
     "metadata": {},
     "output_type": "display_data"
    },
    {
     "data": {
      "image/png": "[encoded data removed]",
      "text/plain": [
       "<matplotlib.figure.Figure at 0x56f03048>"
      ]
     },
     "metadata": {},
     "output_type": "display_data"
    }
   ],
   "source": [
    "print filters.shape\n",
    "print biases.shape\n",
    "for i in xrange(6):\n",
    "    plt.figure()\n",
    "    plt.imshow(filters[i,0],cmap='gray_r',interpolation='none')\n",
    "    plt.show()"
   ]
  },
  {
   "cell_type": "markdown",
   "metadata": {},
   "source": [
    "<h4> Saving the network </h4>"
   ]
  },
  {
   "cell_type": "code",
   "execution_count": null,
   "metadata": {
    "collapsed": true
   },
   "outputs": [],
   "source": [
    "def save_weights(filename,network):\n",
    "    with open(filename, 'wb') as f:\n",
    "        cPickle.dump(lasagne.layers.get_all_param_values(network), f)\n",
    "        \n",
    "def load_weights(filename, network):\n",
    "    with open(filename, 'rb') as f:\n",
    "        lasagne.layers.set_all_param_values(network, cPickle.load(f))"
   ]
  }
 ],
 "metadata": {
  "celltoolbar": "Raw Cell Format",
  "kernelspec": {
   "display_name": "Python 2",
   "language": "python",
   "name": "python2"
  },
  "language_info": {
   "codemirror_mode": {
    "name": "ipython",
    "version": 2
   },
   "file_extension": ".py",
   "mimetype": "text/x-python",
   "name": "python",
   "nbconvert_exporter": "python",
   "pygments_lexer": "ipython2",
   "version": "2.7.13"
  }
 },
 "nbformat": 4,
 "nbformat_minor": 2
}
