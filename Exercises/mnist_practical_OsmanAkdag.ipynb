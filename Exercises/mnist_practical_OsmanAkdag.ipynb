{
 "cells": [
  {
   "cell_type": "markdown",
   "metadata": {},
   "source": [
    "<h1>MNIST digit recognition with LeNet</h1>\n",
    "\n",
    "In this practical session we will build a convolutional neural network that is able to recognise the digits 0-9 in images.\n",
    "\n",
    "You can run the code in a cell by selecting the cell and pressing Shift+Enter.\n",
    "\n",
    "<h4>1) Import statements</h4>\n",
    "First, import some of the packages we will need (run the cell below).\n",
    "\n",
    "Documentation for each of these packages can be found online: <br>\n",
    "For numpy: https://docs.scipy.org/doc/numpy-dev/user/quickstart.html <br>\n",
    "For matplotlib: http://matplotlib.org/api/pyplot_api.html <br>\n",
    "For lasagne: http://lasagne.readthedocs.io <br>\n",
    "For random: https://docs.python.org/2/library/random.html <br>"
   ]
  },
  {
   "cell_type": "code",
   "execution_count": 1,
   "metadata": {
    "collapsed": false
   },
   "outputs": [
    {
     "name": "stderr",
     "output_type": "stream",
     "text": [
      "/Users/OsmanAkdag/anaconda2/lib/python2.7/site-packages/theano/tensor/signal/downsample.py:6: UserWarning: downsample module has been moved to the theano.tensor.signal.pool module.\n",
      "  \"downsample module has been moved to the theano.tensor.signal.pool module.\")\n"
     ]
    }
   ],
   "source": [
    "import cPickle\n",
    "import gzip\n",
    "import numpy as np\n",
    "import matplotlib.pyplot as plt\n",
    "%matplotlib inline\n",
    "import theano\n",
    "import lasagne\n",
    "import time\n",
    "import random\n",
    "random.seed(0)"
   ]
  },
  {
   "cell_type": "markdown",
   "metadata": {},
   "source": [
    "<h4>2) Loading the data</h4>\n",
    "Download the data from: http://deeplearning.net/data/mnist/mnist.pkl.gz and save it somewhere on your disc. The function below loads the data from the location where you have saved it (path) and stores it in numpy arrays. The data is already split in a train set, a validation set and a test set. Each of these three sets are saved in two separate variables, one containing the labels and one containing the images. The labels are lists of numbers between 0 and 9. The images are 4-dimensional arrays (of the same length) with the image dimensions in the last 2 dimensions.\n",
    "\n",
    "Change the path in the second cell below to the location where you have saved it and run the two cells."
   ]
  },
  {
   "cell_type": "code",
   "execution_count": 2,
   "metadata": {
    "collapsed": true
   },
   "outputs": [],
   "source": [
    "def loadMNIST(path):\n",
    "    f = gzip.open(path, 'rb')\n",
    "    train_set, valid_set, test_set = cPickle.load(f)\n",
    "    f.close()\n",
    "    \n",
    "    train_set_labels = train_set[1]\n",
    "    train_set_images = np.resize(train_set[0],(len(train_set_labels),1,28,28))\n",
    "    train_set_images = np.pad(train_set_images,((0,0),(0,0),(2,2),(2,2)),'constant', constant_values=0)\n",
    "   \n",
    "    valid_set_labels = valid_set[1]\n",
    "    valid_set_images = np.resize(valid_set[0],(len(valid_set_labels),1,28,28))\n",
    "    valid_set_images = np.pad(valid_set_images,((0,0),(0,0),(2,2),(2,2)),'constant', constant_values=0)\n",
    "\n",
    "    test_set_labels = test_set[1]\n",
    "    test_set_images = np.resize(test_set[0],(len(test_set_labels),1,28,28))\n",
    "    test_set_images = np.pad(test_set_images,((0,0),(0,0),(2,2),(2,2)),'constant', constant_values=0)\n",
    "    \n",
    "    return train_set_labels, train_set_images, valid_set_labels, valid_set_images, test_set_labels, test_set_images"
   ]
  },
  {
   "cell_type": "code",
   "execution_count": 3,
   "metadata": {
    "collapsed": false
   },
   "outputs": [],
   "source": [
    "train_set_labels, train_set_images, valid_set_labels, valid_set_images, test_set_labels, test_set_images = loadMNIST(r'/Users/OsmanAkdag/Documents/Master/Jaar_1_Q3/Capita_selecta_medical_image_analysis/FirstAssignment/mnist.pkl.gz')"
   ]
  },
  {
   "cell_type": "markdown",
   "metadata": {},
   "source": [
    "<h4>3) Visualising the data</h4>\n",
    "Let's look at the data we've just loaded! \n",
    "\n",
    "How many samples are in each set? (Use .shape to see the dimensions) \n",
    "\n",
    "How large are the images? \n",
    "\n",
    "How many samples are there for each of the 10 digits? \n",
    "\n",
    "Show some of the images with plt.imshow (use cmap='gray_r' for black digits on a white background and interpolation='none' to see the real pixels), you can access one of the training images as: train_set_images[i,0]."
   ]
  },
  {
   "cell_type": "code",
   "execution_count": 4,
   "metadata": {
    "collapsed": false
   },
   "outputs": [
    {
     "name": "stdout",
     "output_type": "stream",
     "text": [
      "ntrain_samples = 50000\n",
      "nvalid_samples = 10000\n",
      "ntest_samples = 10000\n",
      "Number of Images with Digit 0 = 4932\n",
      "Number of Images with Digit 1 = 5678\n",
      "Number of Images with Digit 2 = 4968\n",
      "Number of Images with Digit 3 = 5101\n",
      "Number of Images with Digit 4 = 4859\n",
      "Number of Images with Digit 5 = 4506\n",
      "Number of Images with Digit 6 = 4951\n",
      "Number of Images with Digit 7 = 5175\n",
      "Number of Images with Digit 8 = 4842\n",
      "Number of Images with Digit 9 = 4988\n",
      "Size of train images are: 32 x 32\n",
      "Size of valid images are: 32 x 32\n",
      "Size of test images are: 32 x 32\n"
     ]
    },
    {
     "data": {
      "text/plain": [
       "<matplotlib.image.AxesImage at 0x117695250>"
      ]
     },
     "execution_count": 4,
     "metadata": {},
     "output_type": "execute_result"
    },
    {
     "data": {
      "image/png": "[encoded data removed]",
      "text/plain": [
       "<matplotlib.figure.Figure at 0x10ef97cd0>"
      ]
     },
     "metadata": {},
     "output_type": "display_data"
    }
   ],
   "source": [
    "ntrain_samples = train_set_images.shape # 50000 Samples, 32x32 pixels\n",
    "nvalid_samples = valid_set_images.shape # 10000 Samples, 32x32 pixels\n",
    "ntest_samples = test_set_images.shape # 10000 Samples, 32x32 pixels\n",
    "print \"ntrain_samples =\", ntrain_samples[0]\n",
    "print \"nvalid_samples =\", nvalid_samples[0]\n",
    "print \"ntest_samples =\", ntest_samples[0]\n",
    "\n",
    "Digit_0 = []\n",
    "Digit_1 = [] \n",
    "Digit_2 = [] \n",
    "Digit_3 = [] \n",
    "Digit_4 = []\n",
    "Digit_5 = [] \n",
    "Digit_6 = [] \n",
    "Digit_7 = [] \n",
    "Digit_8 = []\n",
    "Digit_9 = []\n",
    "\n",
    "\n",
    "for i in range(len(train_set_labels)):\n",
    "    if train_set_labels[i] == 0:\n",
    "        Digit_0.append(train_set_labels[i])\n",
    "    elif train_set_labels[i] == 1:\n",
    "        Digit_1.append(train_set_labels[i])\n",
    "    elif train_set_labels[i] == 2:\n",
    "        Digit_2.append(train_set_labels[i])\n",
    "    elif train_set_labels[i] == 3:\n",
    "        Digit_3.append(train_set_labels[i])\n",
    "    elif train_set_labels[i] == 4:\n",
    "        Digit_4.append(train_set_labels[i])\n",
    "    elif train_set_labels[i] == 5:\n",
    "        Digit_5.append(train_set_labels[i])\n",
    "    elif train_set_labels[i] == 6:\n",
    "        Digit_6.append(train_set_labels[i])\n",
    "    elif train_set_labels[i] == 7:\n",
    "        Digit_7.append(train_set_labels[i])\n",
    "    elif train_set_labels[i] == 8:\n",
    "        Digit_8.append(train_set_labels[i])\n",
    "    elif train_set_labels[i] == 9:\n",
    "        Digit_9.append(train_set_labels[i])\n",
    "print \"Number of Images with Digit 0 =\", str(len(Digit_0))\n",
    "print \"Number of Images with Digit 1 =\", str(len(Digit_1))\n",
    "print \"Number of Images with Digit 2 =\", str(len(Digit_2))\n",
    "print \"Number of Images with Digit 3 =\", str(len(Digit_3))\n",
    "print \"Number of Images with Digit 4 =\", str(len(Digit_4))\n",
    "print \"Number of Images with Digit 5 =\", str(len(Digit_5))\n",
    "print \"Number of Images with Digit 6 =\", str(len(Digit_6))\n",
    "print \"Number of Images with Digit 7 =\", str(len(Digit_7))\n",
    "print \"Number of Images with Digit 8 =\", str(len(Digit_8))\n",
    "print \"Number of Images with Digit 9 =\", str(len(Digit_9))\n",
    "\n",
    "print \"Size of train images are:\", ntrain_samples[2], \"x\", ntrain_samples[3]\n",
    "print \"Size of valid images are:\", nvalid_samples[2], \"x\", nvalid_samples[3]\n",
    "print \"Size of test images are:\", ntest_samples[2], \"x\", ntest_samples[3]\n",
    "\n",
    "plt.imshow(train_set_images[5,0], cmap='gray_r', interpolation = 'none')"
   ]
  },
  {
   "cell_type": "markdown",
   "metadata": {},
   "source": [
    "<h4>4) One-hot-encoding</h4>\n",
    "Convert the labels from a number between 0 and 9 to 'one-hot-encoding'. This means that for a label with number 3, there should be a 1 at element 3 and 0 everywhere else, i.e. [0, 0, 0, 1, 0, 0, 0, 0 ,0 ,0]. These are our target nodes, the node at position 3 should be active when the input image shows a 3. The code below does this for the training labels. \n",
    "\n",
    "Do the same for the validation labels!"
   ]
  },
  {
   "cell_type": "code",
   "execution_count": 5,
   "metadata": {
    "collapsed": false
   },
   "outputs": [
    {
     "name": "stdout",
     "output_type": "stream",
     "text": [
      "Training set labels: \n",
      "[5 0 4 1 9 2 1 3 1 4] \n",
      "\n",
      "Training labels: \n",
      "[[0 0 0 0 0 1 0 0 0 0]\n",
      " [1 0 0 0 0 0 0 0 0 0]\n",
      " [0 0 0 0 1 0 0 0 0 0]\n",
      " [0 1 0 0 0 0 0 0 0 0]\n",
      " [0 0 0 0 0 0 0 0 0 1]\n",
      " [0 0 1 0 0 0 0 0 0 0]\n",
      " [0 1 0 0 0 0 0 0 0 0]\n",
      " [0 0 0 1 0 0 0 0 0 0]\n",
      " [0 1 0 0 0 0 0 0 0 0]\n",
      " [0 0 0 0 1 0 0 0 0 0]]\n",
      "Validation set labels: \n",
      "[3 8 6 9 6 4 5 3 8 4] \n",
      "\n",
      "Validation labels: \n",
      "[[0 0 0 1 0 0 0 0 0 0]\n",
      " [0 0 0 0 0 0 0 0 1 0]\n",
      " [0 0 0 0 0 0 1 0 0 0]\n",
      " [0 0 0 0 0 0 0 0 0 1]\n",
      " [0 0 0 0 0 0 1 0 0 0]\n",
      " [0 0 0 0 1 0 0 0 0 0]\n",
      " [0 0 0 0 0 1 0 0 0 0]\n",
      " [0 0 0 1 0 0 0 0 0 0]\n",
      " [0 0 0 0 0 0 0 0 1 0]\n",
      " [0 0 0 0 1 0 0 0 0 0]]\n"
     ]
    }
   ],
   "source": [
    "train_labels = np.zeros((len(train_set_labels),10),dtype=np.int16)        \n",
    "for n in xrange(10):\n",
    "    train_labels[:,n] = train_set_labels==n\n",
    "\n",
    "print \"Training set labels: \\n\", str(train_set_labels[:10]),\"\\n\"\n",
    "print \"Training labels: \\n\", str(train_labels[:10])\n",
    "\n",
    "validation_labels = np.zeros((len(valid_set_labels),10),dtype = np.int16)\n",
    "for j in xrange(10):\n",
    "    validation_labels[:,j] = valid_set_labels==j\n",
    "    \n",
    "print \"Validation set labels: \\n\", str(valid_set_labels[:10]),\"\\n\"\n",
    "print \"Validation labels: \\n\", str(validation_labels[:10])\n"
   ]
  },
  {
   "cell_type": "markdown",
   "metadata": {},
   "source": [
    "<h4>5) Building the network</h4>\n",
    "The function below builds the LeNet network as we looked at in the lecture. The layers are defined as functions with as input the previous network and as output the new network with the new layer added. The print network.output_shape statement shows the dimensions after the current layer. \n",
    "\n",
    "Can you recognise all the elements of the network from the lecture?"
   ]
  },
  {
   "cell_type": "code",
   "execution_count": 6,
   "metadata": {
    "collapsed": true
   },
   "outputs": [],
   "source": [
    "def buildLeNet(X1):\n",
    "    # Input\n",
    "    inputlayer = lasagne.layers.InputLayer(shape=(None, 1, 32, 32),input_var=X1)    \n",
    "    print inputlayer.output_shape\n",
    "    \n",
    "    # 2D Convolution layer\n",
    "    layer1 = lasagne.layers.Conv2DLayer(inputlayer, num_filters=6, filter_size=(5,5), nonlinearity=lasagne.nonlinearities.rectify, W=lasagne.init.GlorotUniform())\n",
    "    print layer1.output_shape \n",
    "    \n",
    "    # 2D Max-pooling layer\n",
    "    layer2 = lasagne.layers.MaxPool2DLayer(layer1, pool_size=(2, 2))\n",
    "    print layer2.output_shape \n",
    "    \n",
    "    # 2D Convolution layer\n",
    "    layer3 = lasagne.layers.Conv2DLayer(layer2, num_filters=16, filter_size=(5,5), nonlinearity=lasagne.nonlinearities.rectify, W=lasagne.init.GlorotUniform())\n",
    "    print layer3.output_shape \n",
    "    \n",
    "    # 2D Max-pooling layer\n",
    "    # Output van layer 4 wordt een 4D tensor\n",
    "    layer4 = lasagne.layers.MaxPool2DLayer(layer3, pool_size=(2, 2))\n",
    "    print layer4.output_shape \n",
    "    \n",
    "    # 4D tensor omgooien naar 2D\n",
    "    layer4 = lasagne.layers.flatten(layer4)\n",
    "    print layer4.output_shape \n",
    "    \n",
    "    # First fully connected layer\n",
    "    layer5 = lasagne.layers.DenseLayer(layer4,num_units=120,nonlinearity=lasagne.nonlinearities.rectify)    \n",
    "    print layer5.output_shape \n",
    "    \n",
    "    # Second fully connected layer\n",
    "    layer6 = lasagne.layers.DenseLayer(layer5,num_units=84,nonlinearity=lasagne.nonlinearities.rectify)\n",
    "    print layer6.output_shape \n",
    "    \n",
    "    # Outputlayer using softmax regression\n",
    "    outputlayer = lasagne.layers.DenseLayer(layer6,num_units=10,nonlinearity=lasagne.nonlinearities.softmax)     \n",
    "    print outputlayer.output_shape \n",
    "    \n",
    "    return layer1, layer2, layer3, layer4, layer5, layer6, outputlayer"
   ]
  },
  {
   "cell_type": "code",
   "execution_count": 7,
   "metadata": {
    "collapsed": false
   },
   "outputs": [
    {
     "name": "stdout",
     "output_type": "stream",
     "text": [
      "(None, 1, 32, 32)\n",
      "(None, 6, 28, 28)\n",
      "(None, 6, 14, 14)\n",
      "(None, 16, 10, 10)\n",
      "(None, 16, 5, 5)\n",
      "(None, 400)\n",
      "(None, 120)\n",
      "(None, 84)\n",
      "(None, 10)\n"
     ]
    }
   ],
   "source": [
    "X = theano.tensor.tensor4()\n",
    "Y = theano.tensor.matrix()\n",
    "layer1, layer2, layer3, layer4, layer5, layer6, outputlayer = buildLeNet(X)"
   ]
  },
  {
   "cell_type": "markdown",
   "metadata": {},
   "source": [
    "<h4>6) Training function</h4>\n",
    "Define the functions for training the network. We will use negative log likelihood (called categorical cross-entropy in lasagne) as loss function (second row) and stochastic gradient descent with momentum as optimiser (fourth row)."
   ]
  },
  {
   "cell_type": "code",
   "execution_count": 8,
   "metadata": {
    "collapsed": false
   },
   "outputs": [
    {
     "name": "stderr",
     "output_type": "stream",
     "text": [
      "/Users/OsmanAkdag/anaconda2/lib/python2.7/site-packages/lasagne/layers/conv.py:489: UserWarning: The `image_shape` keyword argument to `tensor.nnet.conv2d` is deprecated, it has been renamed to `input_shape`.\n",
      "  border_mode=border_mode)\n"
     ]
    }
   ],
   "source": [
    "outputtrain = lasagne.layers.get_output(outputlayer) #function that gets the output from the network defined before.\n",
    "trainloss = lasagne.objectives.categorical_crossentropy(outputtrain, Y).mean() #function that computes the mean crossentropy between the output and the real labels.\n",
    "params = lasagne.layers.get_all_params(outputlayer, trainable=True) #function that gets all the parameters (weights) in the network.\n",
    "updates = lasagne.updates.momentum(trainloss, params, learning_rate=0.001) #function that performs an update of the weights based on the loss.\n",
    "train = theano.function(inputs=[X, Y], outputs=trainloss, updates=updates, allow_input_downcast=True) #function that does all the above based on training samples X and real labels Y."
   ]
  },
  {
   "cell_type": "markdown",
   "metadata": {},
   "source": [
    "<h4>7) Validation function</h4>\n",
    "Define a function to validate the network."
   ]
  },
  {
   "cell_type": "code",
   "execution_count": 9,
   "metadata": {
    "collapsed": true
   },
   "outputs": [],
   "source": [
    "validate = theano.function(inputs=[X, Y], outputs=trainloss, allow_input_downcast=True) #function that computes the loss without performing an update"
   ]
  },
  {
   "cell_type": "markdown",
   "metadata": {},
   "source": [
    "<h4>8) Test function</h4>\n",
    "Define the functions for testing the network. "
   ]
  },
  {
   "cell_type": "code",
   "execution_count": 10,
   "metadata": {
    "collapsed": true
   },
   "outputs": [],
   "source": [
    "outputtest = lasagne.layers.get_output(outputlayer, deterministic=True) #function that gets the output from the network defined before.\n",
    "test = theano.function(inputs=[X], outputs=outputtest, allow_input_downcast=True) #function that gets the output based on input X"
   ]
  },
  {
   "cell_type": "markdown",
   "metadata": {},
   "source": [
    "<h4>9) Training the network</h4>\n",
    "Do the training in random batches of a specific number of samples (we set the values below to 250 batches of 100 samples). \n",
    "\n",
    "Use random.sample(a,n) to select a random batch of n samples from array a. \n",
    "\n",
    "Next, use the train(X,Y) function we have defined in 6) to perform an update of the network based on a random batch of training images X and training labels Y. \n",
    "\n",
    "The train function returns the loss. Save the loss of each training batch in the variable 'losslist' so we can look at them later (you can use .append() to add the current loss to the list).\n",
    "\n",
    "Also keep track of the loss for random batches from the validation set to see if your network is not overfitting on the training set. You can use validate(X,Y) from 7) to compute the loss on the validation set (without doing an update).\n",
    "\n",
    "<b>Remember</b> that if you restart the training process from the beginning you also need to reinitialise the network by running the cells starting from 5) again."
   ]
  },
  {
   "cell_type": "code",
   "execution_count": 11,
   "metadata": {
    "collapsed": false
   },
   "outputs": [
    {
     "name": "stdout",
     "output_type": "stream",
     "text": [
      "Loss minibatch 99: 2.2451847036\n",
      "Loss validation minibatch 99: 2.24827420858\n",
      "Loss minibatch 199: 1.9999160706\n",
      "Loss validation minibatch 199: 1.99277064616\n",
      "Training time: 31.6401090622 seconds\n"
     ]
    }
   ],
   "source": [
    "trainingsamples = np.arange(len(train_set_labels)) #numbers from 0 until the number of samples\n",
    "validsamples = np.arange(len(valid_set_labels))\n",
    "\n",
    "minibatches = 250\n",
    "minibatchsize = 250 \n",
    "\n",
    "losslist = []\n",
    "validlosslist = []\n",
    "\n",
    "t0 = time.time()\n",
    "\n",
    "for i in xrange(minibatches):\n",
    "    #select random training en validation samples and perform training and validation steps here.\n",
    "    randombatch_train = random.sample(trainingsamples,minibatchsize)\n",
    "    X_train = train_set_images[randombatch_train]\n",
    "    Y_train = train_labels[randombatch_train]\n",
    "    loss = train(X_train,Y_train)\n",
    "    if (i+1)%100 == 0:\n",
    "        print 'Loss minibatch {}: {}'.format(i,loss)\n",
    "    losslist.append(loss)\n",
    "    \n",
    "    randombatch_valid = random.sample(validsamples,minibatchsize)\n",
    "    X_valid = valid_set_images[randombatch_valid]\n",
    "    Y_valid = validation_labels[randombatch_valid]\n",
    "    validloss = validate(X_valid,Y_valid)\n",
    "    if (i+1)%100==0:\n",
    "        print 'Loss validation minibatch {}: {}'.format(i,validloss)\n",
    "    validlosslist.append(validloss)\n",
    "    \n",
    "\n",
    "t1 = time.time()\n",
    "print 'Training time: {} seconds'.format(t1-t0)\n",
    "# print losslist\n",
    "# print validlosslist"
   ]
  },
  {
   "cell_type": "markdown",
   "metadata": {},
   "source": [
    "<h4>9) Loss curves</h4>\n",
    "Plot the loss curves for the training and validation sets (use plt.plot(losslist) for the training loss). \n",
    "\n",
    "Is 250 batches enough to train the network? How many do we need? \n",
    "\n",
    "What happens if you change the learning rate in 6)? \n",
    "\n",
    "What happens if you change the minibatchsize? \n",
    "\n",
    "What happens if you use another optimizer? \n",
    "\n",
    "Try to get the loss as low as possible! \n",
    "\n",
    "What happens if you make changes to the network? Use for example more or less filters or nodes, remove a layer, etc."
   ]
  },
  {
   "cell_type": "code",
   "execution_count": 12,
   "metadata": {
    "collapsed": false
   },
   "outputs": [
    {
     "name": "stderr",
     "output_type": "stream",
     "text": [
      "/Users/OsmanAkdag/anaconda2/lib/python2.7/site-packages/matplotlib/legend.py:634: UserWarning: Legend does not support 'T' instances.\n",
      "A proxy artist may be used instead.\n",
      "See: http://matplotlib.org/users/legend_guide.html#using-proxy-artist\n",
      "  \"#using-proxy-artist\".format(orig_handle)\n",
      "/Users/OsmanAkdag/anaconda2/lib/python2.7/site-packages/matplotlib/legend.py:634: UserWarning: Legend does not support 'r' instances.\n",
      "A proxy artist may be used instead.\n",
      "See: http://matplotlib.org/users/legend_guide.html#using-proxy-artist\n",
      "  \"#using-proxy-artist\".format(orig_handle)\n",
      "/Users/OsmanAkdag/anaconda2/lib/python2.7/site-packages/matplotlib/legend.py:634: UserWarning: Legend does not support 'a' instances.\n",
      "A proxy artist may be used instead.\n",
      "See: http://matplotlib.org/users/legend_guide.html#using-proxy-artist\n",
      "  \"#using-proxy-artist\".format(orig_handle)\n",
      "/Users/OsmanAkdag/anaconda2/lib/python2.7/site-packages/matplotlib/legend.py:634: UserWarning: Legend does not support 'i' instances.\n",
      "A proxy artist may be used instead.\n",
      "See: http://matplotlib.org/users/legend_guide.html#using-proxy-artist\n",
      "  \"#using-proxy-artist\".format(orig_handle)\n",
      "/Users/OsmanAkdag/anaconda2/lib/python2.7/site-packages/matplotlib/legend.py:634: UserWarning: Legend does not support 'n' instances.\n",
      "A proxy artist may be used instead.\n",
      "See: http://matplotlib.org/users/legend_guide.html#using-proxy-artist\n",
      "  \"#using-proxy-artist\".format(orig_handle)\n",
      "/Users/OsmanAkdag/anaconda2/lib/python2.7/site-packages/matplotlib/legend.py:634: UserWarning: Legend does not support 'g' instances.\n",
      "A proxy artist may be used instead.\n",
      "See: http://matplotlib.org/users/legend_guide.html#using-proxy-artist\n",
      "  \"#using-proxy-artist\".format(orig_handle)\n",
      "/Users/OsmanAkdag/anaconda2/lib/python2.7/site-packages/matplotlib/legend.py:634: UserWarning: Legend does not support ' ' instances.\n",
      "A proxy artist may be used instead.\n",
      "See: http://matplotlib.org/users/legend_guide.html#using-proxy-artist\n",
      "  \"#using-proxy-artist\".format(orig_handle)\n",
      "/Users/OsmanAkdag/anaconda2/lib/python2.7/site-packages/matplotlib/legend.py:634: UserWarning: Legend does not support 'L' instances.\n",
      "A proxy artist may be used instead.\n",
      "See: http://matplotlib.org/users/legend_guide.html#using-proxy-artist\n",
      "  \"#using-proxy-artist\".format(orig_handle)\n",
      "/Users/OsmanAkdag/anaconda2/lib/python2.7/site-packages/matplotlib/legend.py:634: UserWarning: Legend does not support 'o' instances.\n",
      "A proxy artist may be used instead.\n",
      "See: http://matplotlib.org/users/legend_guide.html#using-proxy-artist\n",
      "  \"#using-proxy-artist\".format(orig_handle)\n",
      "/Users/OsmanAkdag/anaconda2/lib/python2.7/site-packages/matplotlib/legend.py:634: UserWarning: Legend does not support 's' instances.\n",
      "A proxy artist may be used instead.\n",
      "See: http://matplotlib.org/users/legend_guide.html#using-proxy-artist\n",
      "  \"#using-proxy-artist\".format(orig_handle)\n"
     ]
    },
    {
     "data": {
      "text/plain": [
       "<matplotlib.legend.Legend at 0x119bdaf10>"
      ]
     },
     "execution_count": 12,
     "metadata": {},
     "output_type": "execute_result"
    },
    {
     "data": {
      "image/png": "[encoded data removed]",
      "text/plain": [
       "<matplotlib.figure.Figure at 0x11c9a3890>"
      ]
     },
     "metadata": {},
     "output_type": "display_data"
    }
   ],
   "source": [
    "plt.figure()\n",
    "plt.plot(losslist, '-r')\n",
    "plt.plot(validlosslist, '-b')\n",
    "plt.legend('Training Loss', 'Validation Loss')\n",
    "\n",
    "# Learning rate can be changed in 6) \n",
    "\n"
   ]
  },
  {
   "cell_type": "markdown",
   "metadata": {},
   "source": [
    "<h4>10) Evaluation on the test set</h4>\n",
    "Evaluate the network on the test set with the test(X) function we have defined in 8). You can use np.argmax() to select the node with the highest probability. \n",
    "\n",
    "How well did it do? How many of the 10 000 test samples did it label correctly?"
   ]
  },
  {
   "cell_type": "code",
   "execution_count": 13,
   "metadata": {
    "collapsed": false
   },
   "outputs": [
    {
     "name": "stdout",
     "output_type": "stream",
     "text": [
      "Testing time: 0.000430107116699 seconds\n",
      "[7 2 1 ..., 4 6 6]\n",
      "(10000,)\n",
      "[7 2 1 ..., 4 5 6]\n",
      "Accuracy: 0.5904\n"
     ]
    },
    {
     "data": {
      "image/png": "[encoded data removed]",
      "text/plain": [
       "<matplotlib.figure.Figure at 0x11c8b2b90>"
      ]
     },
     "metadata": {},
     "output_type": "display_data"
    },
    {
     "data": {
      "image/png": "[encoded data removed]",
      "text/plain": [
       "<matplotlib.figure.Figure at 0x118a18750>"
      ]
     },
     "metadata": {},
     "output_type": "display_data"
    },
    {
     "data": {
      "image/png": "[encoded data removed]",
      "text/plain": [
       "<matplotlib.figure.Figure at 0x118a187d0>"
      ]
     },
     "metadata": {},
     "output_type": "display_data"
    },
    {
     "data": {
      "image/png": "[encoded data removed]",
      "text/plain": [
       "<matplotlib.figure.Figure at 0x118aac510>"
      ]
     },
     "metadata": {},
     "output_type": "display_data"
    },
    {
     "data": {
      "image/png": "[encoded data removed]",
      "text/plain": [
       "<matplotlib.figure.Figure at 0x118ae9310>"
      ]
     },
     "metadata": {},
     "output_type": "display_data"
    }
   ],
   "source": [
    "out = test(test_set_images)\n",
    "t0 = time.time()\n",
    "test_set_predictions = np.argmax(out, axis = 1) # For every row axis = 1 \n",
    "t1 = time.time()\n",
    "print 'Testing time: {} seconds'.format(t1-t0)\n",
    "print test_set_predictions  # My result\n",
    "print test_set_predictions.shape\n",
    "print test_set_labels # What were the actual labels\n",
    "\n",
    "TP = np.sum(test_set_predictions == test_set_labels) # Comparison\n",
    "print 'Accuracy: {}'.format(float(TP)/float(len(test_set_labels)))\n",
    "\n",
    "incorrect_images = test_set_images[test_set_labels!=test_set_predictions]\n",
    "incorrect_labels = test_set_labels[test_set_labels!=test_set_predictions]\n",
    "incorrect_predictions = test_set_predictions[test_set_labels!=test_set_predictions]\n",
    "for i in xrange(5):\n",
    "    plt.figure()\n",
    "    plt.imshow(incorrect_images[i,0],cmap='gray_r',interpolation='none')\n",
    "    plt.title('Predicted label: {}'.format(incorrect_predictions[i]))\n",
    "    plt.xlabel('Real label: {}'.format(incorrect_labels[i]))"
   ]
  },
  {
   "cell_type": "markdown",
   "metadata": {},
   "source": [
    "<h4>11) Visualising what the network has learned</h4>\n",
    "To see what is happening within the network we can visualise the learned filters and their feature maps. We now define an additional function that obtains the feature maps after the first layer."
   ]
  },
  {
   "cell_type": "code",
   "execution_count": 14,
   "metadata": {
    "collapsed": false
   },
   "outputs": [],
   "source": [
    "outputlayer1 = lasagne.layers.get_output(layer1) \n",
    "outputfeatures = theano.function(inputs=[X], outputs=outputlayer1, allow_input_downcast=True) "
   ]
  },
  {
   "cell_type": "markdown",
   "metadata": {},
   "source": [
    "<h4>12) Visualising the features</h4>\n",
    "Let's look at the feature maps after the first layer for one of the images from the test set. We have defined the function 'outputfeatures' for that. \n",
    "\n",
    "Look at the shape of the features variable. \n",
    "\n",
    "Visualise the 6 features maps for some of the 10 000 test samples with plt.imshow"
   ]
  },
  {
   "cell_type": "code",
   "execution_count": 15,
   "metadata": {
    "collapsed": false
   },
   "outputs": [],
   "source": [
    "features = outputfeatures(test_set_images)"
   ]
  },
  {
   "cell_type": "code",
   "execution_count": 16,
   "metadata": {
    "collapsed": false
   },
   "outputs": [
    {
     "data": {
      "image/png": "[encoded data removed]",
      "text/plain": [
       "<matplotlib.figure.Figure at 0x119060510>"
      ]
     },
     "metadata": {},
     "output_type": "display_data"
    },
    {
     "data": {
      "image/png": "[encoded data removed]",
      "text/plain": [
       "<matplotlib.figure.Figure at 0x119008e50>"
      ]
     },
     "metadata": {},
     "output_type": "display_data"
    },
    {
     "data": {
      "image/png": "[encoded data removed]",
      "text/plain": [
       "<matplotlib.figure.Figure at 0x1191568d0>"
      ]
     },
     "metadata": {},
     "output_type": "display_data"
    },
    {
     "data": {
      "image/png": "[encoded data removed]",
      "text/plain": [
       "<matplotlib.figure.Figure at 0x1190f3cd0>"
      ]
     },
     "metadata": {},
     "output_type": "display_data"
    },
    {
     "data": {
      "image/png": "[encoded data removed]",
      "text/plain": [
       "<matplotlib.figure.Figure at 0x11925bb90>"
      ]
     },
     "metadata": {},
     "output_type": "display_data"
    },
    {
     "data": {
      "image/png": "[encoded data removed]",
      "text/plain": [
       "<matplotlib.figure.Figure at 0x119297950>"
      ]
     },
     "metadata": {},
     "output_type": "display_data"
    }
   ],
   "source": [
    "# My way\n",
    "# plt.imshow(features[1,1,:,:])\n",
    "\n",
    "# Pim's way\n",
    "for i in xrange(6):\n",
    "    plt.figure()\n",
    "    plt.imshow(features[1,i],cmap='gray_r',interpolation='none')\n",
    "    "
   ]
  },
  {
   "cell_type": "markdown",
   "metadata": {},
   "source": [
    "<h4>13) Visualising the filters</h4>\n",
    "Let's look at the filters that are learned. We can use the lasagne function 'get_all_param_values' for that. These are the filters that are applied to the images to obtain the feature maps that we saw above.\n",
    "\n",
    "Look at the shape of the filters and biases.\n",
    "\n",
    "Visualise the 6 filters of the first layer with plt.imshow. Do you see any structure in the learned filters?"
   ]
  },
  {
   "cell_type": "code",
   "execution_count": 17,
   "metadata": {
    "collapsed": false
   },
   "outputs": [],
   "source": [
    "weights = lasagne.layers.get_all_param_values(layer1)\n",
    "filters = weights[0]\n",
    "biases = weights[1]"
   ]
  },
  {
   "cell_type": "code",
   "execution_count": 18,
   "metadata": {
    "collapsed": false
   },
   "outputs": [
    {
     "data": {
      "text/plain": [
       "<matplotlib.image.AxesImage at 0x11ccd4c50>"
      ]
     },
     "execution_count": 18,
     "metadata": {},
     "output_type": "execute_result"
    },
    {
     "data": {
      "image/png": "[encoded data removed]",
      "text/plain": [
       "<matplotlib.figure.Figure at 0x11c193450>"
      ]
     },
     "metadata": {},
     "output_type": "display_data"
    }
   ],
   "source": [
    "plt.figure(1)\n",
    "plt.suptitle('Filters1')\n",
    "plt.subplot(231)\n",
    "plt.imshow(filters[0,0])\n",
    "plt.subplot(232)\n",
    "plt.imshow(filters[1,0])\n",
    "plt.subplot(233)\n",
    "plt.imshow(filters[2,0])\n",
    "plt.subplot(234)\n",
    "plt.imshow(filters[3,0])\n",
    "plt.subplot(235)\n",
    "plt.imshow(filters[4,0])\n",
    "plt.subplot(236)\n",
    "plt.imshow(filters[5,0])"
   ]
  },
  {
   "cell_type": "markdown",
   "metadata": {},
   "source": [
    "<h4>14) Visualising other layers </h4>\n",
    "Can you also visualise features and kernels of other layers? Take for example a look at the features after the third layer."
   ]
  },
  {
   "cell_type": "code",
   "execution_count": 19,
   "metadata": {
    "collapsed": false,
    "scrolled": true
   },
   "outputs": [
    {
     "data": {
      "text/plain": [
       "<matplotlib.image.AxesImage at 0x119660e90>"
      ]
     },
     "execution_count": 19,
     "metadata": {},
     "output_type": "execute_result"
    },
    {
     "data": {
      "image/png": "[encoded data removed]",
      "text/plain": [
       "<matplotlib.figure.Figure at 0x119d84b10>"
      ]
     },
     "metadata": {},
     "output_type": "display_data"
    },
    {
     "data": {
      "image/png": "[encoded data removed]",
      "text/plain": [
       "<matplotlib.figure.Figure at 0x118aac750>"
      ]
     },
     "metadata": {},
     "output_type": "display_data"
    },
    {
     "data": {
      "image/png": "[encoded data removed]",
      "text/plain": [
       "<matplotlib.figure.Figure at 0x118a60f10>"
      ]
     },
     "metadata": {},
     "output_type": "display_data"
    },
    {
     "data": {
      "image/png": "[encoded data removed]",
      "text/plain": [
       "<matplotlib.figure.Figure at 0x119dd5d10>"
      ]
     },
     "metadata": {},
     "output_type": "display_data"
    },
    {
     "data": {
      "image/png": "[encoded data removed]",
      "text/plain": [
       "<matplotlib.figure.Figure at 0x11987b050>"
      ]
     },
     "metadata": {},
     "output_type": "display_data"
    }
   ],
   "source": [
    "outputlayer2 = lasagne.layers.get_output(layer2) \n",
    "outputfeatures2 = theano.function(inputs=[X], outputs=outputlayer2, allow_input_downcast=True)\n",
    "weights2 = lasagne.layers.get_all_param_values(layer2)\n",
    "filters2 = weights[0]\n",
    "biases2 = weights[1]\n",
    "\n",
    "plt.figure(2)\n",
    "plt.suptitle('Filters2')\n",
    "plt.subplot(231)\n",
    "plt.imshow(filters2[0,0])\n",
    "plt.subplot(232)\n",
    "plt.imshow(filters2[1,0])\n",
    "plt.subplot(233)\n",
    "plt.imshow(filters2[2,0])\n",
    "plt.subplot(234)\n",
    "plt.imshow(filters2[3,0])\n",
    "plt.subplot(235)\n",
    "plt.imshow(filters2[4,0])\n",
    "plt.subplot(236)\n",
    "plt.imshow(filters2[5,0])\n",
    "\n",
    "outputlayer3 = lasagne.layers.get_output(layer3) \n",
    "outputfeatures3 = theano.function(inputs=[X], outputs=outputlayer3, allow_input_downcast=True)\n",
    "weights3 = lasagne.layers.get_all_param_values(layer3)\n",
    "filters3 = weights[0]\n",
    "biases3 = weights[1]\n",
    "\n",
    "plt.figure(3)\n",
    "plt.suptitle('Filters3')\n",
    "plt.subplot(231)\n",
    "plt.imshow(filters3[0,0])\n",
    "plt.subplot(232)\n",
    "plt.imshow(filters3[1,0])\n",
    "plt.subplot(233)\n",
    "plt.imshow(filters3[2,0])\n",
    "plt.subplot(234)\n",
    "plt.imshow(filters3[3,0])\n",
    "plt.subplot(235)\n",
    "plt.imshow(filters3[4,0])\n",
    "plt.subplot(236)\n",
    "plt.imshow(filters3[5,0])\n",
    "\n",
    "outputlayer4 = lasagne.layers.get_output(layer4) \n",
    "outputfeatures4 = theano.function(inputs=[X], outputs=outputlayer4, allow_input_downcast=True)\n",
    "weights4 = lasagne.layers.get_all_param_values(layer4)\n",
    "filters4 = weights[0]\n",
    "biases4 = weights[1]\n",
    "\n",
    "plt.figure(4)\n",
    "plt.suptitle('Filters4')\n",
    "plt.subplot(231)\n",
    "plt.imshow(filters4[0,0])\n",
    "plt.subplot(232)\n",
    "plt.imshow(filters4[1,0])\n",
    "plt.subplot(233)\n",
    "plt.imshow(filters4[2,0])\n",
    "plt.subplot(234)\n",
    "plt.imshow(filters4[3,0])\n",
    "plt.subplot(235)\n",
    "plt.imshow(filters4[4,0])\n",
    "plt.subplot(236)\n",
    "plt.imshow(filters4[5,0])\n",
    "\n",
    "outputlayer5 = lasagne.layers.get_output(layer5) \n",
    "outputfeatures5 = theano.function(inputs=[X], outputs=outputlayer5, allow_input_downcast=True)\n",
    "weights5 = lasagne.layers.get_all_param_values(layer5)\n",
    "filters5 = weights[0]\n",
    "biases5 = weights[1]\n",
    "\n",
    "plt.figure(5)\n",
    "plt.suptitle('Filters5')\n",
    "plt.subplot(231)\n",
    "plt.imshow(filters5[0,0])\n",
    "plt.subplot(232)\n",
    "plt.imshow(filters5[1,0])\n",
    "plt.subplot(233)\n",
    "plt.imshow(filters5[2,0])\n",
    "plt.subplot(234)\n",
    "plt.imshow(filters5[3,0])\n",
    "plt.subplot(235)\n",
    "plt.imshow(filters5[4,0])\n",
    "plt.subplot(236)\n",
    "plt.imshow(filters5[5,0])\n",
    "\n",
    "outputlayer6 = lasagne.layers.get_output(layer6) \n",
    "outputfeatures6 = theano.function(inputs=[X], outputs=outputlayer6, allow_input_downcast=True)\n",
    "weights6 = lasagne.layers.get_all_param_values(layer6)\n",
    "filters6 = weights[0]\n",
    "biases6 = weights[1]\n",
    "\n",
    "plt.figure(6)\n",
    "plt.suptitle('Filters6')\n",
    "plt.subplot(231)\n",
    "plt.imshow(filters6[0,0])\n",
    "plt.subplot(232)\n",
    "plt.imshow(filters6[1,0])\n",
    "plt.subplot(233)\n",
    "plt.imshow(filters6[2,0])\n",
    "plt.subplot(234)\n",
    "plt.imshow(filters6[3,0])\n",
    "plt.subplot(235)\n",
    "plt.imshow(filters6[4,0])\n",
    "plt.subplot(236)\n",
    "plt.imshow(filters6[5,0])"
   ]
  },
  {
   "cell_type": "markdown",
   "metadata": {},
   "source": [
    "<h4>15) Saving a trained model to disc</h4>\n",
    "Training a network can often take a very long time. It's therefore useful to be able save a trained model to disc. You can use the functions below to save and load a trained network. This is especially useful for the project next week."
   ]
  },
  {
   "cell_type": "code",
   "execution_count": 21,
   "metadata": {
    "collapsed": false,
    "scrolled": true
   },
   "outputs": [],
   "source": [
    "def save_weights(filename,network):\n",
    "    with open(filename, 'wb') as f:\n",
    "        cPickle.dump(lasagne.layers.get_all_param_values(network), f)\n",
    "\n",
    "filename = '/Users/OsmanAkdag/Documents/Master/Jaar_1_Q3/Capita_selecta_medical_image_analysis/FirstAssignment/MNIST_weights_Practical_OsmanAkdag.pkl'\n",
    "network = outputlayer\n",
    "save_weights(filename, network)"
   ]
  },
  {
   "cell_type": "code",
   "execution_count": 22,
   "metadata": {
    "collapsed": true
   },
   "outputs": [],
   "source": [
    "def load_weights(filename, network):\n",
    "    with open(filename, 'rb') as f:\n",
    "        lasagne.layers.set_all_param_values(network, cPickle.load(f))\n",
    "\n",
    "filename = '/Users/OsmanAkdag/Documents/Master/Jaar_1_Q3/Capita_selecta_medical_image_analysis/FirstAssignment/MNIST_weights_Practical_OsmanAkdag.pkl'\n",
    "network = outputlayer\n",
    "save_weights(filename, network)"
   ]
  },
  {
   "cell_type": "code",
   "execution_count": null,
   "metadata": {
    "collapsed": true
   },
   "outputs": [],
   "source": []
  }
 ],
 "metadata": {
  "anaconda-cloud": {},
  "kernelspec": {
   "display_name": "Python 2",
   "language": "python",
   "name": "python2"
  },
  "language_info": {
   "codemirror_mode": {
    "name": "ipython",
    "version": 2
   },
   "file_extension": ".py",
   "mimetype": "text/x-python",
   "name": "python",
   "nbconvert_exporter": "python",
   "pygments_lexer": "ipython2",
   "version": "2.7.13"
  }
 },
 "nbformat": 4,
 "nbformat_minor": 0
}
